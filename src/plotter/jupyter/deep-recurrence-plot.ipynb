{
 "cells": [
  {
   "cell_type": "code",
   "execution_count": 1,
   "metadata": {},
   "outputs": [],
   "source": [
    "import numpy as np\n",
    "import tensorflow as tf\n",
    "from tensorflow import keras\n",
    "from tensorflow.keras.models import Sequential, load_model\n",
    "from tensorflow.keras.layers import Activation, Dense, Flatten, BatchNormalization, Dropout, Conv2D, MaxPool2D\n",
    "from tensorflow.keras.optimizers import Adam\n",
    "from tensorflow.keras.metrics import categorical_crossentropy\n",
    "from tensorflow.keras.preprocessing.image import ImageDataGenerator\n",
    "from sklearn.metrics import plot_confusion_matrix, confusion_matrix \n",
    "from sklearn.metrics import accuracy_score\n",
    "from sklearn.utils import shuffle\n",
    "import itertools\n",
    "import os\n",
    "import shutil\n",
    "import random\n",
    "import glob\n",
    "import matplotlib.pyplot as plt \n",
    "import warnings\n",
    "warnings.simplefilter(action='ignore',category=FutureWarning)\n",
    "%matplotlib inline"
   ]
  },
  {
   "cell_type": "code",
   "execution_count": 2,
   "metadata": {},
   "outputs": [
    {
     "name": "stdout",
     "output_type": "stream",
     "text": [
      "Num GPUs Available:  1\n"
     ]
    }
   ],
   "source": [
    "physical_devices = tf.config.experimental.list_physical_devices('GPU')\n",
    "print(\"Num GPUs Available: \", len(physical_devices))\n",
    "tf.config.experimental.set_memory_growth(physical_devices[0], True)"
   ]
  },
  {
   "cell_type": "code",
   "execution_count": 3,
   "metadata": {},
   "outputs": [],
   "source": [
    "os.chdir('data/recurrence-plot')\n",
    "if os.path.isdir('train/chaotic') is False:\n",
    "    os.makedirs('train/chaotic')\n",
    "    os.makedirs('train/periodic')\n",
    "    os.makedirs('train/trend')\n",
    "    os.makedirs('valid/chaotic')\n",
    "    os.makedirs('valid/periodic')\n",
    "    os.makedirs('valid/trend')\n",
    "    os.makedirs('test/chaotic')\n",
    "    os.makedirs('test/periodic')\n",
    "    os.makedirs('test/trend')\n",
    "    \n",
    "    for c in random.sample(glob.glob('chaotic*'), 850):\n",
    "        shutil.move(c, 'train/chaotic')\n",
    "    for c in random.sample(glob.glob('periodic*'), 850):\n",
    "        shutil.move(c, 'train/periodic')\n",
    "    for c in random.sample(glob.glob('trend*'), 850):\n",
    "        shutil.move(c, 'train/trend')\n",
    "    for c in random.sample(glob.glob('chaotic*'), 100):\n",
    "        shutil.move(c, 'valid/chaotic')\n",
    "    for c in random.sample(glob.glob('periodic*'), 100):\n",
    "        shutil.move(c, 'valid/periodic')\n",
    "    for c in random.sample(glob.glob('trend*'), 100):\n",
    "        shutil.move(c, 'valid/trend')\n",
    "    for c in random.sample(glob.glob('chaotic*'), 50):\n",
    "        shutil.move(c, 'test/chaotic')\n",
    "    for c in random.sample(glob.glob('periodic*'), 50):\n",
    "        shutil.move(c, 'test/periodic')\n",
    "    for c in random.sample(glob.glob('trend*'), 50):\n",
    "        shutil.move(c, 'test/trend')\n",
    "        \n",
    "os.chdir('../../')"
   ]
  },
  {
   "cell_type": "code",
   "execution_count": 5,
   "metadata": {},
   "outputs": [],
   "source": [
    "train_path = 'data/recurrence-plot/train'\n",
    "valid_path = 'data/recurrence-plot/valid'\n",
    "test_path = 'data/recurrence-plot/test'"
   ]
  },
  {
   "cell_type": "code",
   "execution_count": 148,
   "metadata": {},
   "outputs": [
    {
     "name": "stdout",
     "output_type": "stream",
     "text": [
      "Found 2550 images belonging to 3 classes.\n",
      "Found 300 images belonging to 3 classes.\n",
      "Found 150 images belonging to 3 classes.\n"
     ]
    }
   ],
   "source": [
    "train_batches = ImageDataGenerator(preprocessing_function=tf.keras.applications.vgg16.preprocess_input) \\\n",
    ".flow_from_directory(directory=train_path, target_size=(224,224), classes=['periodic', 'trend', 'chaotic'], batch_size=10)                \n",
    "valid_batches = ImageDataGenerator(preprocessing_function=tf.keras.applications.vgg16.preprocess_input) \\\n",
    ".flow_from_directory(directory=valid_path, target_size=(224,224), classes=['periodic', 'trend', 'chaotic'], batch_size=10)\n",
    "test_batches = ImageDataGenerator(preprocessing_function=tf.keras.applications.vgg16.preprocess_input) \\\n",
    ".flow_from_directory(directory=test_path, target_size=(224,224), classes=['periodic', 'trend', 'chaotic'], batch_size=10, shuffle=False)"
   ]
  },
  {
   "cell_type": "code",
   "execution_count": 149,
   "metadata": {},
   "outputs": [
    {
     "name": "stdout",
     "output_type": "stream",
     "text": [
      "{'periodic': 0, 'trend': 1, 'chaotic': 2}\n"
     ]
    }
   ],
   "source": [
    "print(test_batches.class_indices)"
   ]
  },
  {
   "cell_type": "code",
   "execution_count": 42,
   "metadata": {},
   "outputs": [],
   "source": [
    "model = Sequential([\n",
    "    Conv2D(filters=64, kernel_size=(3,3), activation='relu', padding='same', input_shape=(224,224,3)),\n",
    "    Conv2D(filters=64, kernel_size=(3,3), activation='relu', padding='same'),\n",
    "    MaxPool2D(pool_size=(2,2), strides=2),\n",
    "    Dropout(0.25),\n",
    "    Conv2D(filters=128, kernel_size=(3,3), activation='relu', padding='same'),\n",
    "    Conv2D(filters=128, kernel_size=(3,3), activation='relu', padding='same'),\n",
    "    MaxPool2D(pool_size=(2,2), strides=2),\n",
    "    Dropout(0.25),\n",
    "    Conv2D(filters=256, kernel_size=(3,3), activation='relu', padding='same'),\n",
    "    Conv2D(filters=256, kernel_size=(3,3), activation='relu', padding='same'),\n",
    "    MaxPool2D(pool_size=(2,2), strides=2),\n",
    "    Dropout(0.25),\n",
    "    Conv2D(filters=512, kernel_size=(3,3), activation='relu', padding='same'),\n",
    "    Conv2D(filters=512, kernel_size=(3,3), activation='relu', padding='same'),\n",
    "    MaxPool2D(pool_size=(2,2), strides=2),\n",
    "    Dropout(0.25),\n",
    "    Flatten(),\n",
    "    Dense(units=3, activation='softmax')\n",
    "])"
   ]
  },
  {
   "cell_type": "code",
   "execution_count": 43,
   "metadata": {
    "collapsed": true,
    "jupyter": {
     "outputs_hidden": true
    }
   },
   "outputs": [
    {
     "name": "stdout",
     "output_type": "stream",
     "text": [
      "Model: \"sequential_2\"\n",
      "_________________________________________________________________\n",
      "Layer (type)                 Output Shape              Param #   \n",
      "=================================================================\n",
      "conv2d_14 (Conv2D)           (None, 224, 224, 64)      1792      \n",
      "_________________________________________________________________\n",
      "conv2d_15 (Conv2D)           (None, 224, 224, 64)      36928     \n",
      "_________________________________________________________________\n",
      "max_pooling2d_7 (MaxPooling2 (None, 112, 112, 64)      0         \n",
      "_________________________________________________________________\n",
      "dropout_7 (Dropout)          (None, 112, 112, 64)      0         \n",
      "_________________________________________________________________\n",
      "conv2d_16 (Conv2D)           (None, 112, 112, 128)     73856     \n",
      "_________________________________________________________________\n",
      "conv2d_17 (Conv2D)           (None, 112, 112, 128)     147584    \n",
      "_________________________________________________________________\n",
      "max_pooling2d_8 (MaxPooling2 (None, 56, 56, 128)       0         \n",
      "_________________________________________________________________\n",
      "dropout_8 (Dropout)          (None, 56, 56, 128)       0         \n",
      "_________________________________________________________________\n",
      "conv2d_18 (Conv2D)           (None, 56, 56, 256)       295168    \n",
      "_________________________________________________________________\n",
      "conv2d_19 (Conv2D)           (None, 56, 56, 256)       590080    \n",
      "_________________________________________________________________\n",
      "max_pooling2d_9 (MaxPooling2 (None, 28, 28, 256)       0         \n",
      "_________________________________________________________________\n",
      "dropout_9 (Dropout)          (None, 28, 28, 256)       0         \n",
      "_________________________________________________________________\n",
      "conv2d_20 (Conv2D)           (None, 28, 28, 512)       1180160   \n",
      "_________________________________________________________________\n",
      "conv2d_21 (Conv2D)           (None, 28, 28, 512)       2359808   \n",
      "_________________________________________________________________\n",
      "max_pooling2d_10 (MaxPooling (None, 14, 14, 512)       0         \n",
      "_________________________________________________________________\n",
      "dropout_10 (Dropout)         (None, 14, 14, 512)       0         \n",
      "_________________________________________________________________\n",
      "flatten_2 (Flatten)          (None, 100352)            0         \n",
      "_________________________________________________________________\n",
      "dense_3 (Dense)              (None, 3)                 301059    \n",
      "=================================================================\n",
      "Total params: 4,986,435\n",
      "Trainable params: 4,986,435\n",
      "Non-trainable params: 0\n",
      "_________________________________________________________________\n"
     ]
    }
   ],
   "source": [
    "model.summary()"
   ]
  },
  {
   "cell_type": "code",
   "execution_count": 44,
   "metadata": {},
   "outputs": [],
   "source": [
    "model.compile(optimizer=Adam(learning_rate=0.001), \n",
    "              loss='categorical_crossentropy', metrics=['accuracy'])"
   ]
  },
  {
   "cell_type": "code",
   "execution_count": 45,
   "metadata": {
    "collapsed": true,
    "jupyter": {
     "outputs_hidden": true
    }
   },
   "outputs": [
    {
     "name": "stdout",
     "output_type": "stream",
     "text": [
      "Epoch 1/10\n",
      "255/255 - 24s - loss: 7.4704 - accuracy: 0.7973 - val_loss: 8.4446e-04 - val_accuracy: 1.0000\n",
      "Epoch 2/10\n",
      "255/255 - 23s - loss: 0.1034 - accuracy: 0.9667 - val_loss: 0.0157 - val_accuracy: 0.9933\n",
      "Epoch 3/10\n",
      "255/255 - 23s - loss: 0.0357 - accuracy: 0.9918 - val_loss: 6.2133e-05 - val_accuracy: 1.0000\n",
      "Epoch 4/10\n",
      "255/255 - 23s - loss: 3.8896e-04 - accuracy: 0.9996 - val_loss: 2.5552e-05 - val_accuracy: 1.0000\n",
      "Epoch 5/10\n",
      "255/255 - 23s - loss: 5.6732e-05 - accuracy: 1.0000 - val_loss: 1.6588e-05 - val_accuracy: 1.0000\n",
      "Epoch 6/10\n",
      "255/255 - 23s - loss: 1.4010e-05 - accuracy: 1.0000 - val_loss: 7.8537e-06 - val_accuracy: 1.0000\n",
      "Epoch 7/10\n",
      "255/255 - 23s - loss: 8.8292e-06 - accuracy: 1.0000 - val_loss: 4.5072e-06 - val_accuracy: 1.0000\n",
      "Epoch 8/10\n",
      "255/255 - 23s - loss: 5.9272e-06 - accuracy: 1.0000 - val_loss: 2.7291e-06 - val_accuracy: 1.0000\n",
      "Epoch 9/10\n",
      "255/255 - 23s - loss: 2.7526e-06 - accuracy: 1.0000 - val_loss: 1.7468e-06 - val_accuracy: 1.0000\n",
      "Epoch 10/10\n",
      "255/255 - 23s - loss: 2.0504e-06 - accuracy: 1.0000 - val_loss: 1.1114e-06 - val_accuracy: 1.0000\n"
     ]
    },
    {
     "data": {
      "text/plain": [
       "<tensorflow.python.keras.callbacks.History at 0x7fcccc1532b0>"
      ]
     },
     "execution_count": 45,
     "metadata": {},
     "output_type": "execute_result"
    }
   ],
   "source": [
    "model.fit(x=train_batches, validation_data=valid_batches, epochs=10, verbose=2)"
   ]
  },
  {
   "cell_type": "markdown",
   "metadata": {},
   "source": [
    "# Predict"
   ]
  },
  {
   "cell_type": "code",
   "execution_count": 174,
   "metadata": {},
   "outputs": [],
   "source": [
    "predictions = model.predict(x=test_batches, verbose=0)"
   ]
  },
  {
   "cell_type": "code",
   "execution_count": 175,
   "metadata": {},
   "outputs": [
    {
     "data": {
      "image/png": "[encoded data removed]",
      "text/plain": [
       "<Figure size 432x288 with 2 Axes>"
      ]
     },
     "metadata": {
      "needs_background": "light"
     },
     "output_type": "display_data"
    }
   ],
   "source": [
    "from sklearn.metrics import confusion_matrix\n",
    "from sklearn.metrics import plot_confusion_matrix\n",
    "from sklearn.metrics import accuracy_score\n",
    "from sklearn.svm import SVC\n",
    "\n",
    "class_names=['periodic','trending','chaotic']\n",
    "title = \"Data model confusion matrix\"\n",
    "classifier = svm.SVC(kernel='linear', C=1).fit(predictions, test_batches.classes)\n",
    "np.set_printoptions(precision=2)\n",
    "\n",
    "titles_options = [(\"Normallaized confusion matrix\", \"true\")]\n",
    "\n",
    "disp=plot_confusion_matrix(classifier, predictions, test_batches.classes,\n",
    "                          display_labels=class_names,\n",
    "                          cmap=plt.cm.Blues)\n",
    "\n",
    "disp.ax_.set_title(title)\n",
    "\n",
    "plt.show()"
   ]
  },
  {
   "cell_type": "code",
   "execution_count": 22,
   "metadata": {},
   "outputs": [],
   "source": [
    "if os.path.isfile('models/recurrence_plot_model.h5') is False:\n",
    "    model.save('models/recurrence_plot_model.h5')"
   ]
  },
  {
   "cell_type": "code",
   "execution_count": 11,
   "metadata": {},
   "outputs": [],
   "source": [
    "model = load_model('models/recurrence_plot_model.h5')"
   ]
  },
  {
   "cell_type": "code",
   "execution_count": 55,
   "metadata": {
    "collapsed": true,
    "jupyter": {
     "outputs_hidden": true
    }
   },
   "outputs": [
    {
     "name": "stdout",
     "output_type": "stream",
     "text": [
      "Model: \"sequential_16\"\n",
      "_________________________________________________________________\n",
      "Layer (type)                 Output Shape              Param #   \n",
      "=================================================================\n",
      "conv2d_140 (Conv2D)          (None, 224, 224, 64)      1792      \n",
      "_________________________________________________________________\n",
      "conv2d_141 (Conv2D)          (None, 224, 224, 64)      36928     \n",
      "_________________________________________________________________\n",
      "max_pooling2d_59 (MaxPooling (None, 112, 112, 64)      0         \n",
      "_________________________________________________________________\n",
      "dropout_16 (Dropout)         (None, 112, 112, 64)      0         \n",
      "_________________________________________________________________\n",
      "conv2d_142 (Conv2D)          (None, 112, 112, 128)     73856     \n",
      "_________________________________________________________________\n",
      "conv2d_143 (Conv2D)          (None, 112, 112, 128)     147584    \n",
      "_________________________________________________________________\n",
      "max_pooling2d_60 (MaxPooling (None, 56, 56, 128)       0         \n",
      "_________________________________________________________________\n",
      "dropout_17 (Dropout)         (None, 56, 56, 128)       0         \n",
      "_________________________________________________________________\n",
      "conv2d_144 (Conv2D)          (None, 56, 56, 256)       295168    \n",
      "_________________________________________________________________\n",
      "conv2d_145 (Conv2D)          (None, 56, 56, 256)       590080    \n",
      "_________________________________________________________________\n",
      "conv2d_146 (Conv2D)          (None, 56, 56, 256)       590080    \n",
      "_________________________________________________________________\n",
      "max_pooling2d_61 (MaxPooling (None, 28, 28, 256)       0         \n",
      "_________________________________________________________________\n",
      "dropout_18 (Dropout)         (None, 28, 28, 256)       0         \n",
      "_________________________________________________________________\n",
      "conv2d_147 (Conv2D)          (None, 28, 28, 512)       1180160   \n",
      "_________________________________________________________________\n",
      "conv2d_148 (Conv2D)          (None, 28, 28, 512)       2359808   \n",
      "_________________________________________________________________\n",
      "conv2d_149 (Conv2D)          (None, 28, 28, 512)       2359808   \n",
      "_________________________________________________________________\n",
      "max_pooling2d_62 (MaxPooling (None, 14, 14, 512)       0         \n",
      "_________________________________________________________________\n",
      "flatten_16 (Flatten)         (None, 100352)            0         \n",
      "_________________________________________________________________\n",
      "dense_28 (Dense)             (None, 3)                 301059    \n",
      "=================================================================\n",
      "Total params: 7,936,323\n",
      "Trainable params: 7,936,323\n",
      "Non-trainable params: 0\n",
      "_________________________________________________________________\n"
     ]
    }
   ],
   "source": [
    "model.summary()"
   ]
  }
 ],
 "metadata": {
  "kernelspec": {
   "display_name": "Python 3",
   "language": "python",
   "name": "python3"
  },
  "language_info": {
   "codemirror_mode": {
    "name": "ipython",
    "version": 3
   },
   "file_extension": ".py",
   "mimetype": "text/x-python",
   "name": "python",
   "nbconvert_exporter": "python",
   "pygments_lexer": "ipython3",
   "version": "3.8.5"
  }
 },
 "nbformat": 4,
 "nbformat_minor": 4
}

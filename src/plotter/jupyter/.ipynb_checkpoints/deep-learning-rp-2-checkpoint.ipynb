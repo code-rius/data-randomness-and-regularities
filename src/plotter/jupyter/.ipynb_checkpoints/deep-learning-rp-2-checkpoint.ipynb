{
 "cells": [
  {
   "cell_type": "code",
   "execution_count": 1,
   "metadata": {},
   "outputs": [],
   "source": [
    "import numpy as np\n",
    "import tensorflow as tf\n",
    "from tensorflow import keras\n",
    "from tensorflow.keras.models import Sequential\n",
    "from tensorflow.keras.layers import Activation, Dense, Flatten, BatchNormalization, Conv2D, MaxPool2D\n",
    "from tensorflow.keras.optimizers import Adam\n",
    "from tensorflow.keras.metrics import categorical_crossentropy\n",
    "from tensorflow.keras.preprocessing.image import ImageDataGenerator\n",
    "from sklearn.metrics import confusion_matrix\n",
    "from sklearn.utils import shuffle\n",
    "from keras.preprocessing.image import load_img\n",
    "from keras.preprocessing.image import img_to_array\n",
    "from keras.preprocessing.image import array_to_img\n",
    "import itertools\n",
    "import os\n",
    "import shutil\n",
    "import random\n",
    "import timeit\n",
    "import glob\n",
    "import matplotlib.pyplot as plt \n",
    "import warnings\n",
    "from recurrence_plot import RecurrencePlot as rp\n",
    "#warnings.simplefilter(action='ignore',category=FutureWarning)\n",
    "%matplotlib inline"
   ]
  },
  {
   "cell_type": "markdown",
   "metadata": {},
   "source": [
    "### Check for compatable GPU (optional)"
   ]
  },
  {
   "cell_type": "code",
   "execution_count": 2,
   "metadata": {},
   "outputs": [
    {
     "name": "stdout",
     "output_type": "stream",
     "text": [
      "Num GPUs Available:  1\n"
     ]
    }
   ],
   "source": [
    "physical_devices = tf.config.experimental.list_physical_devices('GPU')\n",
    "print(\"Num GPUs Available: \", len(physical_devices))\n",
    "tf.config.experimental.set_memory_growth(physical_devices[0], True)"
   ]
  },
  {
   "cell_type": "markdown",
   "metadata": {},
   "source": [
    "### Declare global variables"
   ]
  },
  {
   "cell_type": "code",
   "execution_count": 19,
   "metadata": {},
   "outputs": [],
   "source": [
    "chaos_labels = np.array([1,0,0])\n",
    "period_labels = np.array([0,1,0])\n",
    "trend_labels = np.array([0,0,1])\n",
    "\n",
    "chaos_path = 'rp-data/chaos'\n",
    "period_path = 'rp-data/period'\n",
    "trend_path = 'rp-data/trend'\n",
    "\n",
    "train_samples_path = 'rp-data/train_samples.npy'\n",
    "train_labels_path = 'rp-data/train_labels.npy'"
   ]
  },
  {
   "cell_type": "markdown",
   "metadata": {},
   "source": []
  },
  {
   "cell_type": "code",
   "execution_count": 61,
   "metadata": {},
   "outputs": [
    {
     "name": "stdout",
     "output_type": "stream",
     "text": [
      "Time taken:  9.532715523000661 \tImages processed:  50\n",
      "Time taken:  19.238121677999516 \tImages processed:  100\n",
      "Time taken:  28.915293907000887 \tImages processed:  150\n",
      "Time taken:  38.61049524600094 \tImages processed:  200\n",
      "Time taken:  48.19825645000128 \tImages processed:  250\n",
      "Time taken:  57.891139757999554 \tImages processed:  300\n",
      "Time taken:  67.80650453099952 \tImages processed:  350\n",
      "Time taken:  77.81475714000044 \tImages processed:  400\n",
      "Time taken:  87.67279013400002 \tImages processed:  450\n",
      "Time taken:  97.29572284200003 \tImages processed:  500\n",
      "Time taken:  107.0885969789997 \tImages processed:  550\n",
      "Time taken:  116.96589659300116 \tImages processed:  600\n",
      "Time taken:  126.52268294399983 \tImages processed:  650\n",
      "Time taken:  136.41931368900077 \tImages processed:  700\n",
      "Time taken:  146.36977546799972 \tImages processed:  750\n",
      "Time taken:  156.45282599500024 \tImages processed:  800\n",
      "Time taken:  166.3962967410007 \tImages processed:  850\n",
      "Time taken:  176.17865518399958 \tImages processed:  900\n",
      "Time taken:  185.87944710299962 \tImages processed:  950\n",
      "Time taken:  195.6009445489999 \tImages processed:  1000\n",
      "Total time taken:  195.60109273200032\n",
      "Time taken:  9.581396666999353 \tImages processed:  50\n",
      "Time taken:  19.209055129998887 \tImages processed:  100\n",
      "Time taken:  28.894590050998886 \tImages processed:  150\n",
      "Time taken:  38.56509708699923 \tImages processed:  200\n",
      "Time taken:  48.10807608399955 \tImages processed:  250\n",
      "Time taken:  58.04774561799968 \tImages processed:  300\n",
      "Time taken:  68.04696047200014 \tImages processed:  350\n",
      "Time taken:  77.9112530500006 \tImages processed:  400\n",
      "Time taken:  87.79687919999924 \tImages processed:  450\n",
      "Time taken:  97.81698542499907 \tImages processed:  500\n",
      "Time taken:  107.59484781599895 \tImages processed:  550\n",
      "Time taken:  117.2743852929998 \tImages processed:  600\n",
      "Time taken:  126.78724232199966 \tImages processed:  650\n",
      "Time taken:  136.58046402000036 \tImages processed:  700\n",
      "Time taken:  146.11672869199901 \tImages processed:  750\n",
      "Time taken:  156.16128188199946 \tImages processed:  800\n",
      "Time taken:  165.8803231109996 \tImages processed:  850\n",
      "Time taken:  175.46833722600059 \tImages processed:  900\n",
      "Time taken:  185.27167392999945 \tImages processed:  950\n",
      "Time taken:  195.05920915000024 \tImages processed:  1000\n",
      "Total time taken:  195.46206512199933\n",
      "Time taken:  9.887687641001321 \tImages processed:  50\n",
      "Time taken:  19.630233596000835 \tImages processed:  100\n",
      "Time taken:  29.212951875000726 \tImages processed:  150\n",
      "Time taken:  38.76677890500105 \tImages processed:  200\n",
      "Time taken:  48.846762946001036 \tImages processed:  250\n",
      "Time taken:  58.46656811600042 \tImages processed:  300\n",
      "Time taken:  68.09998169699975 \tImages processed:  350\n",
      "Time taken:  77.78967476400067 \tImages processed:  400\n",
      "Time taken:  87.42451947100017 \tImages processed:  450\n",
      "Time taken:  96.92086209599984 \tImages processed:  500\n",
      "Time taken:  106.52674809300152 \tImages processed:  550\n",
      "Time taken:  116.07178050200127 \tImages processed:  600\n",
      "Time taken:  125.71088952100035 \tImages processed:  650\n",
      "Time taken:  135.0630264120009 \tImages processed:  700\n",
      "Time taken:  144.48243692300093 \tImages processed:  750\n",
      "Time taken:  154.5337919220001 \tImages processed:  800\n",
      "Time taken:  163.90326789500068 \tImages processed:  850\n",
      "Time taken:  173.3703428509998 \tImages processed:  900\n",
      "Time taken:  182.78635149500042 \tImages processed:  950\n",
      "Time taken:  192.2484185810008 \tImages processed:  1000\n",
      "Total time taken:  192.24869126200065\n"
     ]
    }
   ],
   "source": [
    "def binarize_image_array(pixels_array):\n",
    "    graph_list = []\n",
    "    triangle_width = len(pixels_array) - 1\n",
    "\n",
    "    for i in range(triangle_width):\n",
    "        for j in range(triangle_width - i):\n",
    "            pixel = 1\n",
    "            if (pixels_array[i][j][0] == np.float32(255)):\n",
    "                pixel = 0\n",
    "             \n",
    "            graph_list.append(pixel)\n",
    "            \n",
    "    return graph_list\n",
    "    \n",
    "\n",
    "def populate_train_data(image_dir, train_label):\n",
    "    counter = 0\n",
    "    t_start = timeit.default_timer()\n",
    "    t_samples, t_labels = [], []\n",
    "    \n",
    "    for file in os.listdir(image_dir):\n",
    "        filename = os.fsdecode(file)\n",
    "        \n",
    "        if filename.endswith(\".png\"):\n",
    "            counter += 1\n",
    "            \n",
    "            img_path = os.path.join(image_dir, filename)\n",
    "            img = load_img(img_path)\n",
    "            \n",
    "            pixels_array = img_to_array(img)\n",
    "            pixels_array_binarized = binarize_image_array(pixels_array)\n",
    "            \n",
    "            t_samples.append(pixels_array_binarized)\n",
    "            t_labels.append(train_label)\n",
    "            append_to_csv\n",
    "            if (counter % 50 == 0):\n",
    "                print(\"Time taken: \", timeit.default_timer()-t_start\\\n",
    "                     ,'\\tImages processed: ', counter)\n",
    "\n",
    "    t_end = timeit.default_timer()\n",
    "    print(\"Total time taken: \", t_end - t_start)\n",
    "    \n",
    "    t_samples = np.array(t_samples, dtype=np.uint8)\n",
    "    t_labels = np.array(t_labels, dtype=np.uint8)\n",
    "    \n",
    "    return [t_samples, t_labels]\n",
    "\n",
    "chaos_data = populate_train_data(chaos_path, chaos_labels)\n",
    "period_data = populate_train_data(period_path, period_labels)\n",
    "trend_data = populate_train_data(trend_path, trend_labels)\n",
    "\n",
    "train_samples = np.concatenate((chaos_data[0], period_data[0], trend_data[0]), axis=0)\n",
    "train_labels = np.concatenate((chaos_data[1], period_data[1], trend_data[1]))\n",
    "\n",
    "np.save(train_samples_path, train_samples)\n",
    "np.save(train_labels_path, train_labels)"
   ]
  },
  {
   "cell_type": "markdown",
   "metadata": {},
   "source": [
    "### Load train data into numpy arrays"
   ]
  },
  {
   "cell_type": "code",
   "execution_count": 62,
   "metadata": {},
   "outputs": [],
   "source": [
    "ttrain_samples = np.load(train_samples_path)\n",
    "ttrain_labels = np.load(train_labels_path)"
   ]
  },
  {
   "cell_type": "markdown",
   "metadata": {},
   "source": [
    "# Convert Images to integeras (0 or 1) numpy arary"
   ]
  },
  {
   "cell_type": "code",
   "execution_count": null,
   "metadata": {},
   "outputs": [],
   "source": []
  },
  {
   "cell_type": "code",
   "execution_count": 24,
   "metadata": {},
   "outputs": [
    {
     "name": "stdout",
     "output_type": "stream",
     "text": [
      "Found 1700 images belonging to 2 classes.\n",
      "Found 200 images belonging to 2 classes.\n",
      "Found 100 images belonging to 2 classes.\n"
     ]
    }
   ],
   "source": [
    "train_batches = ImageDataGenerator(preprocessing_function=tf.keras.applications.vgg16.preprocess_input) \\\n",
    "               .flow_from_directory(directory=train_path, target_size=(224,224), classes=['periodic', 'trend'], batch_size=10, shuffle=True)\n",
    "#.flow_from_directory(directory=train_path, target_size=(224,224), classes=['periodic', 'trend', 'chaotic'], batch_size=10, shuffle=True)\n",
    "\n",
    "valid_batches = ImageDataGenerator(preprocessing_function=tf.keras.applications.vgg16.preprocess_input) \\\n",
    "               .flow_from_directory(directory=valid_path, target_size=(224,224), classes=['periodic', 'trend'], batch_size=10, shuffle=True)\n",
    "#                .flow_from_directory(directory=valid_path, target_size=(224,224), classes=['periodic', 'trend', 'chaotic'], batch_size=10, shuffle=True)\n",
    "test_batches = ImageDataGenerator(preprocessing_function=tf.keras.applications.vgg16.preprocess_input) \\\n",
    "               .flow_from_directory(directory=test_path, target_size=(224,224), classes=['periodic', 'trend'], batch_size=10, shuffle=True)\n",
    "#.flow_from_directory(directory=test_path, target_size=(224,224), classes=['periodic', 'trend', 'chaotic'], batch_size=10, shuffle=True)"
   ]
  },
  {
   "cell_type": "code",
   "execution_count": null,
   "metadata": {},
   "outputs": [],
   "source": []
  },
  {
   "cell_type": "code",
   "execution_count": 25,
   "metadata": {
    "collapsed": true,
    "jupyter": {
     "outputs_hidden": true
    }
   },
   "outputs": [
    {
     "name": "stdout",
     "output_type": "stream",
     "text": [
      "(array([[[[ 151.061  ,  138.22101,  131.32   ],\n",
      "         [-103.939  , -116.779  , -123.68   ],\n",
      "         [ 151.061  ,  138.22101,  131.32   ],\n",
      "         ...,\n",
      "         [ 151.061  ,  138.22101,  131.32   ],\n",
      "         [ 151.061  ,  138.22101,  131.32   ],\n",
      "         [-103.939  , -116.779  , -123.68   ]],\n",
      "\n",
      "        [[ 151.061  ,  138.22101,  131.32   ],\n",
      "         [-103.939  , -116.779  , -123.68   ],\n",
      "         [-103.939  , -116.779  , -123.68   ],\n",
      "         ...,\n",
      "         [ 151.061  ,  138.22101,  131.32   ],\n",
      "         [-103.939  , -116.779  , -123.68   ],\n",
      "         [ 151.061  ,  138.22101,  131.32   ]],\n",
      "\n",
      "        [[ 151.061  ,  138.22101,  131.32   ],\n",
      "         [ 151.061  ,  138.22101,  131.32   ],\n",
      "         [-103.939  , -116.779  , -123.68   ],\n",
      "         ...,\n",
      "         [-103.939  , -116.779  , -123.68   ],\n",
      "         [ 151.061  ,  138.22101,  131.32   ],\n",
      "         [ 151.061  ,  138.22101,  131.32   ]],\n",
      "\n",
      "        ...,\n",
      "\n",
      "        [[ 151.061  ,  138.22101,  131.32   ],\n",
      "         [ 151.061  ,  138.22101,  131.32   ],\n",
      "         [-103.939  , -116.779  , -123.68   ],\n",
      "         ...,\n",
      "         [-103.939  , -116.779  , -123.68   ],\n",
      "         [-103.939  , -116.779  , -123.68   ],\n",
      "         [ 151.061  ,  138.22101,  131.32   ]],\n",
      "\n",
      "        [[ 151.061  ,  138.22101,  131.32   ],\n",
      "         [-103.939  , -116.779  , -123.68   ],\n",
      "         [ 151.061  ,  138.22101,  131.32   ],\n",
      "         ...,\n",
      "         [ 151.061  ,  138.22101,  131.32   ],\n",
      "         [-103.939  , -116.779  , -123.68   ],\n",
      "         [-103.939  , -116.779  , -123.68   ]],\n",
      "\n",
      "        [[-103.939  , -116.779  , -123.68   ],\n",
      "         [ 151.061  ,  138.22101,  131.32   ],\n",
      "         [ 151.061  ,  138.22101,  131.32   ],\n",
      "         ...,\n",
      "         [ 151.061  ,  138.22101,  131.32   ],\n",
      "         [ 151.061  ,  138.22101,  131.32   ],\n",
      "         [ 151.061  ,  138.22101,  131.32   ]]],\n",
      "\n",
      "\n",
      "       [[[ 151.061  ,  138.22101,  131.32   ],\n",
      "         [ 151.061  ,  138.22101,  131.32   ],\n",
      "         [ 151.061  ,  138.22101,  131.32   ],\n",
      "         ...,\n",
      "         [-103.939  , -116.779  , -123.68   ],\n",
      "         [-103.939  , -116.779  , -123.68   ],\n",
      "         [-103.939  , -116.779  , -123.68   ]],\n",
      "\n",
      "        [[ 151.061  ,  138.22101,  131.32   ],\n",
      "         [ 151.061  ,  138.22101,  131.32   ],\n",
      "         [ 151.061  ,  138.22101,  131.32   ],\n",
      "         ...,\n",
      "         [-103.939  , -116.779  , -123.68   ],\n",
      "         [-103.939  , -116.779  , -123.68   ],\n",
      "         [-103.939  , -116.779  , -123.68   ]],\n",
      "\n",
      "        [[ 151.061  ,  138.22101,  131.32   ],\n",
      "         [ 151.061  ,  138.22101,  131.32   ],\n",
      "         [ 151.061  ,  138.22101,  131.32   ],\n",
      "         ...,\n",
      "         [-103.939  , -116.779  , -123.68   ],\n",
      "         [-103.939  , -116.779  , -123.68   ],\n",
      "         [-103.939  , -116.779  , -123.68   ]],\n",
      "\n",
      "        ...,\n",
      "\n",
      "        [[ 151.061  ,  138.22101,  131.32   ],\n",
      "         [-103.939  , -116.779  , -123.68   ],\n",
      "         [-103.939  , -116.779  , -123.68   ],\n",
      "         ...,\n",
      "         [ 151.061  ,  138.22101,  131.32   ],\n",
      "         [ 151.061  ,  138.22101,  131.32   ],\n",
      "         [ 151.061  ,  138.22101,  131.32   ]],\n",
      "\n",
      "        [[-103.939  , -116.779  , -123.68   ],\n",
      "         [-103.939  , -116.779  , -123.68   ],\n",
      "         [-103.939  , -116.779  , -123.68   ],\n",
      "         ...,\n",
      "         [ 151.061  ,  138.22101,  131.32   ],\n",
      "         [ 151.061  ,  138.22101,  131.32   ],\n",
      "         [ 151.061  ,  138.22101,  131.32   ]],\n",
      "\n",
      "        [[-103.939  , -116.779  , -123.68   ],\n",
      "         [-103.939  , -116.779  , -123.68   ],\n",
      "         [ 151.061  ,  138.22101,  131.32   ],\n",
      "         ...,\n",
      "         [ 151.061  ,  138.22101,  131.32   ],\n",
      "         [ 151.061  ,  138.22101,  131.32   ],\n",
      "         [ 151.061  ,  138.22101,  131.32   ]]],\n",
      "\n",
      "\n",
      "       [[[ 151.061  ,  138.22101,  131.32   ],\n",
      "         [ 151.061  ,  138.22101,  131.32   ],\n",
      "         [ 151.061  ,  138.22101,  131.32   ],\n",
      "         ...,\n",
      "         [ 151.061  ,  138.22101,  131.32   ],\n",
      "         [-103.939  , -116.779  , -123.68   ],\n",
      "         [-103.939  , -116.779  , -123.68   ]],\n",
      "\n",
      "        [[ 151.061  ,  138.22101,  131.32   ],\n",
      "         [ 151.061  ,  138.22101,  131.32   ],\n",
      "         [ 151.061  ,  138.22101,  131.32   ],\n",
      "         ...,\n",
      "         [ 151.061  ,  138.22101,  131.32   ],\n",
      "         [-103.939  , -116.779  , -123.68   ],\n",
      "         [-103.939  , -116.779  , -123.68   ]],\n",
      "\n",
      "        [[ 151.061  ,  138.22101,  131.32   ],\n",
      "         [ 151.061  ,  138.22101,  131.32   ],\n",
      "         [-103.939  , -116.779  , -123.68   ],\n",
      "         ...,\n",
      "         [-103.939  , -116.779  , -123.68   ],\n",
      "         [ 151.061  ,  138.22101,  131.32   ],\n",
      "         [ 151.061  ,  138.22101,  131.32   ]],\n",
      "\n",
      "        ...,\n",
      "\n",
      "        [[ 151.061  ,  138.22101,  131.32   ],\n",
      "         [ 151.061  ,  138.22101,  131.32   ],\n",
      "         [-103.939  , -116.779  , -123.68   ],\n",
      "         ...,\n",
      "         [-103.939  , -116.779  , -123.68   ],\n",
      "         [ 151.061  ,  138.22101,  131.32   ],\n",
      "         [ 151.061  ,  138.22101,  131.32   ]],\n",
      "\n",
      "        [[ 151.061  ,  138.22101,  131.32   ],\n",
      "         [-103.939  , -116.779  , -123.68   ],\n",
      "         [ 151.061  ,  138.22101,  131.32   ],\n",
      "         ...,\n",
      "         [ 151.061  ,  138.22101,  131.32   ],\n",
      "         [ 151.061  ,  138.22101,  131.32   ],\n",
      "         [ 151.061  ,  138.22101,  131.32   ]],\n",
      "\n",
      "        [[-103.939  , -116.779  , -123.68   ],\n",
      "         [ 151.061  ,  138.22101,  131.32   ],\n",
      "         [ 151.061  ,  138.22101,  131.32   ],\n",
      "         ...,\n",
      "         [ 151.061  ,  138.22101,  131.32   ],\n",
      "         [ 151.061  ,  138.22101,  131.32   ],\n",
      "         [ 151.061  ,  138.22101,  131.32   ]]],\n",
      "\n",
      "\n",
      "       ...,\n",
      "\n",
      "\n",
      "       [[[ 151.061  ,  138.22101,  131.32   ],\n",
      "         [ 151.061  ,  138.22101,  131.32   ],\n",
      "         [ 151.061  ,  138.22101,  131.32   ],\n",
      "         ...,\n",
      "         [-103.939  , -116.779  , -123.68   ],\n",
      "         [ 151.061  ,  138.22101,  131.32   ],\n",
      "         [-103.939  , -116.779  , -123.68   ]],\n",
      "\n",
      "        [[ 151.061  ,  138.22101,  131.32   ],\n",
      "         [ 151.061  ,  138.22101,  131.32   ],\n",
      "         [ 151.061  ,  138.22101,  131.32   ],\n",
      "         ...,\n",
      "         [-103.939  , -116.779  , -123.68   ],\n",
      "         [-103.939  , -116.779  , -123.68   ],\n",
      "         [ 151.061  ,  138.22101,  131.32   ]],\n",
      "\n",
      "        [[ 151.061  ,  138.22101,  131.32   ],\n",
      "         [ 151.061  ,  138.22101,  131.32   ],\n",
      "         [ 151.061  ,  138.22101,  131.32   ],\n",
      "         ...,\n",
      "         [-103.939  , -116.779  , -123.68   ],\n",
      "         [-103.939  , -116.779  , -123.68   ],\n",
      "         [-103.939  , -116.779  , -123.68   ]],\n",
      "\n",
      "        ...,\n",
      "\n",
      "        [[ 151.061  ,  138.22101,  131.32   ],\n",
      "         [ 151.061  ,  138.22101,  131.32   ],\n",
      "         [-103.939  , -116.779  , -123.68   ],\n",
      "         ...,\n",
      "         [ 151.061  ,  138.22101,  131.32   ],\n",
      "         [ 151.061  ,  138.22101,  131.32   ],\n",
      "         [ 151.061  ,  138.22101,  131.32   ]],\n",
      "\n",
      "        [[-103.939  , -116.779  , -123.68   ],\n",
      "         [-103.939  , -116.779  , -123.68   ],\n",
      "         [ 151.061  ,  138.22101,  131.32   ],\n",
      "         ...,\n",
      "         [ 151.061  ,  138.22101,  131.32   ],\n",
      "         [ 151.061  ,  138.22101,  131.32   ],\n",
      "         [ 151.061  ,  138.22101,  131.32   ]],\n",
      "\n",
      "        [[-103.939  , -116.779  , -123.68   ],\n",
      "         [-103.939  , -116.779  , -123.68   ],\n",
      "         [ 151.061  ,  138.22101,  131.32   ],\n",
      "         ...,\n",
      "         [ 151.061  ,  138.22101,  131.32   ],\n",
      "         [ 151.061  ,  138.22101,  131.32   ],\n",
      "         [ 151.061  ,  138.22101,  131.32   ]]],\n",
      "\n",
      "\n",
      "       [[[ 151.061  ,  138.22101,  131.32   ],\n",
      "         [ 151.061  ,  138.22101,  131.32   ],\n",
      "         [ 151.061  ,  138.22101,  131.32   ],\n",
      "         ...,\n",
      "         [-103.939  , -116.779  , -123.68   ],\n",
      "         [-103.939  , -116.779  , -123.68   ],\n",
      "         [-103.939  , -116.779  , -123.68   ]],\n",
      "\n",
      "        [[ 151.061  ,  138.22101,  131.32   ],\n",
      "         [ 151.061  ,  138.22101,  131.32   ],\n",
      "         [ 151.061  ,  138.22101,  131.32   ],\n",
      "         ...,\n",
      "         [-103.939  , -116.779  , -123.68   ],\n",
      "         [-103.939  , -116.779  , -123.68   ],\n",
      "         [-103.939  , -116.779  , -123.68   ]],\n",
      "\n",
      "        [[ 151.061  ,  138.22101,  131.32   ],\n",
      "         [ 151.061  ,  138.22101,  131.32   ],\n",
      "         [ 151.061  ,  138.22101,  131.32   ],\n",
      "         ...,\n",
      "         [-103.939  , -116.779  , -123.68   ],\n",
      "         [-103.939  , -116.779  , -123.68   ],\n",
      "         [-103.939  , -116.779  , -123.68   ]],\n",
      "\n",
      "        ...,\n",
      "\n",
      "        [[-103.939  , -116.779  , -123.68   ],\n",
      "         [ 151.061  ,  138.22101,  131.32   ],\n",
      "         [-103.939  , -116.779  , -123.68   ],\n",
      "         ...,\n",
      "         [ 151.061  ,  138.22101,  131.32   ],\n",
      "         [ 151.061  ,  138.22101,  131.32   ],\n",
      "         [ 151.061  ,  138.22101,  131.32   ]],\n",
      "\n",
      "        [[ 151.061  ,  138.22101,  131.32   ],\n",
      "         [-103.939  , -116.779  , -123.68   ],\n",
      "         [ 151.061  ,  138.22101,  131.32   ],\n",
      "         ...,\n",
      "         [ 151.061  ,  138.22101,  131.32   ],\n",
      "         [ 151.061  ,  138.22101,  131.32   ],\n",
      "         [ 151.061  ,  138.22101,  131.32   ]],\n",
      "\n",
      "        [[-103.939  , -116.779  , -123.68   ],\n",
      "         [ 151.061  ,  138.22101,  131.32   ],\n",
      "         [-103.939  , -116.779  , -123.68   ],\n",
      "         ...,\n",
      "         [ 151.061  ,  138.22101,  131.32   ],\n",
      "         [ 151.061  ,  138.22101,  131.32   ],\n",
      "         [ 151.061  ,  138.22101,  131.32   ]]],\n",
      "\n",
      "\n",
      "       [[[ 151.061  ,  138.22101,  131.32   ],\n",
      "         [ 151.061  ,  138.22101,  131.32   ],\n",
      "         [ 151.061  ,  138.22101,  131.32   ],\n",
      "         ...,\n",
      "         [ 151.061  ,  138.22101,  131.32   ],\n",
      "         [ 151.061  ,  138.22101,  131.32   ],\n",
      "         [-103.939  , -116.779  , -123.68   ]],\n",
      "\n",
      "        [[ 151.061  ,  138.22101,  131.32   ],\n",
      "         [ 151.061  ,  138.22101,  131.32   ],\n",
      "         [ 151.061  ,  138.22101,  131.32   ],\n",
      "         ...,\n",
      "         [ 151.061  ,  138.22101,  131.32   ],\n",
      "         [-103.939  , -116.779  , -123.68   ],\n",
      "         [ 151.061  ,  138.22101,  131.32   ]],\n",
      "\n",
      "        [[ 151.061  ,  138.22101,  131.32   ],\n",
      "         [ 151.061  ,  138.22101,  131.32   ],\n",
      "         [ 151.061  ,  138.22101,  131.32   ],\n",
      "         ...,\n",
      "         [-103.939  , -116.779  , -123.68   ],\n",
      "         [ 151.061  ,  138.22101,  131.32   ],\n",
      "         [ 151.061  ,  138.22101,  131.32   ]],\n",
      "\n",
      "        ...,\n",
      "\n",
      "        [[ 151.061  ,  138.22101,  131.32   ],\n",
      "         [ 151.061  ,  138.22101,  131.32   ],\n",
      "         [-103.939  , -116.779  , -123.68   ],\n",
      "         ...,\n",
      "         [ 151.061  ,  138.22101,  131.32   ],\n",
      "         [ 151.061  ,  138.22101,  131.32   ],\n",
      "         [ 151.061  ,  138.22101,  131.32   ]],\n",
      "\n",
      "        [[ 151.061  ,  138.22101,  131.32   ],\n",
      "         [-103.939  , -116.779  , -123.68   ],\n",
      "         [ 151.061  ,  138.22101,  131.32   ],\n",
      "         ...,\n",
      "         [ 151.061  ,  138.22101,  131.32   ],\n",
      "         [ 151.061  ,  138.22101,  131.32   ],\n",
      "         [ 151.061  ,  138.22101,  131.32   ]],\n",
      "\n",
      "        [[-103.939  , -116.779  , -123.68   ],\n",
      "         [ 151.061  ,  138.22101,  131.32   ],\n",
      "         [ 151.061  ,  138.22101,  131.32   ],\n",
      "         ...,\n",
      "         [ 151.061  ,  138.22101,  131.32   ],\n",
      "         [ 151.061  ,  138.22101,  131.32   ],\n",
      "         [ 151.061  ,  138.22101,  131.32   ]]]], dtype=float32), array([[1., 0.],\n",
      "       [1., 0.],\n",
      "       [1., 0.],\n",
      "       [1., 0.],\n",
      "       [0., 1.],\n",
      "       [1., 0.],\n",
      "       [1., 0.],\n",
      "       [0., 1.],\n",
      "       [0., 1.],\n",
      "       [0., 1.]], dtype=float32))\n"
     ]
    }
   ],
   "source": [
    "print(train_batches.next())"
   ]
  },
  {
   "cell_type": "code",
   "execution_count": 26,
   "metadata": {},
   "outputs": [],
   "source": [
    "imgs, labels = next(train_batches)"
   ]
  },
  {
   "cell_type": "code",
   "execution_count": 20,
   "metadata": {},
   "outputs": [],
   "source": [
    "def plotImages(images_arr):\n",
    "    fig, axes = plt.subplots(1,10,figsize=(20,20))\n",
    "    axes = axes.flatten()\n",
    "    for img, ax in zip( images_arr, axes):\n",
    "        ax.imshow(img)\n",
    "        ax.axis('off')\n",
    "        plt.tight_layout()\n",
    "        plt.show()"
   ]
  },
  {
   "cell_type": "code",
   "execution_count": 15,
   "metadata": {
    "collapsed": true,
    "jupyter": {
     "outputs_hidden": true
    }
   },
   "outputs": [
    {
     "name": "stderr",
     "output_type": "stream",
     "text": [
      "Clipping input data to the valid range for imshow with RGB data ([0..1] for floats or [0..255] for integers).\n"
     ]
    },
    {
     "data": {
      "image/png": "[encoded data removed]",
      "text/plain": [
       "<Figure size 1440x1440 with 10 Axes>"
      ]
     },
     "metadata": {
      "needs_background": "light"
     },
     "output_type": "display_data"
    },
    {
     "name": "stderr",
     "output_type": "stream",
     "text": [
      "Clipping input data to the valid range for imshow with RGB data ([0..1] for floats or [0..255] for integers).\n"
     ]
    },
    {
     "data": {
      "text/plain": [
       "<Figure size 432x288 with 0 Axes>"
      ]
     },
     "metadata": {},
     "output_type": "display_data"
    },
    {
     "name": "stderr",
     "output_type": "stream",
     "text": [
      "Clipping input data to the valid range for imshow with RGB data ([0..1] for floats or [0..255] for integers).\n"
     ]
    },
    {
     "data": {
      "text/plain": [
       "<Figure size 432x288 with 0 Axes>"
      ]
     },
     "metadata": {},
     "output_type": "display_data"
    },
    {
     "name": "stderr",
     "output_type": "stream",
     "text": [
      "Clipping input data to the valid range for imshow with RGB data ([0..1] for floats or [0..255] for integers).\n"
     ]
    },
    {
     "data": {
      "text/plain": [
       "<Figure size 432x288 with 0 Axes>"
      ]
     },
     "metadata": {},
     "output_type": "display_data"
    },
    {
     "name": "stderr",
     "output_type": "stream",
     "text": [
      "Clipping input data to the valid range for imshow with RGB data ([0..1] for floats or [0..255] for integers).\n"
     ]
    },
    {
     "data": {
      "text/plain": [
       "<Figure size 432x288 with 0 Axes>"
      ]
     },
     "metadata": {},
     "output_type": "display_data"
    },
    {
     "name": "stderr",
     "output_type": "stream",
     "text": [
      "Clipping input data to the valid range for imshow with RGB data ([0..1] for floats or [0..255] for integers).\n"
     ]
    },
    {
     "data": {
      "text/plain": [
       "<Figure size 432x288 with 0 Axes>"
      ]
     },
     "metadata": {},
     "output_type": "display_data"
    },
    {
     "name": "stderr",
     "output_type": "stream",
     "text": [
      "Clipping input data to the valid range for imshow with RGB data ([0..1] for floats or [0..255] for integers).\n"
     ]
    },
    {
     "data": {
      "text/plain": [
       "<Figure size 432x288 with 0 Axes>"
      ]
     },
     "metadata": {},
     "output_type": "display_data"
    },
    {
     "name": "stderr",
     "output_type": "stream",
     "text": [
      "Clipping input data to the valid range for imshow with RGB data ([0..1] for floats or [0..255] for integers).\n"
     ]
    },
    {
     "data": {
      "text/plain": [
       "<Figure size 432x288 with 0 Axes>"
      ]
     },
     "metadata": {},
     "output_type": "display_data"
    },
    {
     "name": "stderr",
     "output_type": "stream",
     "text": [
      "Clipping input data to the valid range for imshow with RGB data ([0..1] for floats or [0..255] for integers).\n"
     ]
    },
    {
     "data": {
      "text/plain": [
       "<Figure size 432x288 with 0 Axes>"
      ]
     },
     "metadata": {},
     "output_type": "display_data"
    },
    {
     "name": "stderr",
     "output_type": "stream",
     "text": [
      "Clipping input data to the valid range for imshow with RGB data ([0..1] for floats or [0..255] for integers).\n"
     ]
    },
    {
     "data": {
      "text/plain": [
       "<Figure size 432x288 with 0 Axes>"
      ]
     },
     "metadata": {},
     "output_type": "display_data"
    },
    {
     "name": "stdout",
     "output_type": "stream",
     "text": [
      "[[1. 0.]\n",
      " [1. 0.]\n",
      " [0. 1.]\n",
      " [0. 1.]\n",
      " [1. 0.]\n",
      " [0. 1.]\n",
      " [1. 0.]\n",
      " [1. 0.]\n",
      " [0. 1.]\n",
      " [1. 0.]]\n"
     ]
    }
   ],
   "source": [
    "#plotImages(imgs)\n",
    "#print(labels)"
   ]
  },
  {
   "cell_type": "code",
   "execution_count": 28,
   "metadata": {},
   "outputs": [],
   "source": [
    "model = Sequential([\n",
    "    Conv2D(filters=32, kernel_size=(3,3), activation='relu', padding='same', input_shape=(224,224,3)),\n",
    "    MaxPool2D(pool_size=(2,2), strides=2),\n",
    "    Conv2D(filters=64, kernel_size=(3,3), activation='relu', padding='same'),\n",
    "    MaxPool2D(pool_size=(2,2), strides=2),\n",
    "    Flatten(),\n",
    "    Dense(units=2, activation='softmax')\n",
    "])"
   ]
  },
  {
   "cell_type": "code",
   "execution_count": 22,
   "metadata": {},
   "outputs": [
    {
     "name": "stdout",
     "output_type": "stream",
     "text": [
      "Model: \"sequential_1\"\n",
      "_________________________________________________________________\n",
      "Layer (type)                 Output Shape              Param #   \n",
      "=================================================================\n",
      "conv2d_2 (Conv2D)            (None, 224, 224, 32)      896       \n",
      "_________________________________________________________________\n",
      "max_pooling2d_2 (MaxPooling2 (None, 112, 112, 32)      0         \n",
      "_________________________________________________________________\n",
      "conv2d_3 (Conv2D)            (None, 112, 112, 64)      18496     \n",
      "_________________________________________________________________\n",
      "max_pooling2d_3 (MaxPooling2 (None, 56, 56, 64)        0         \n",
      "_________________________________________________________________\n",
      "flatten_1 (Flatten)          (None, 200704)            0         \n",
      "_________________________________________________________________\n",
      "dense_1 (Dense)              (None, 2)                 401410    \n",
      "=================================================================\n",
      "Total params: 420,802\n",
      "Trainable params: 420,802\n",
      "Non-trainable params: 0\n",
      "_________________________________________________________________\n"
     ]
    }
   ],
   "source": [
    "model.summary()"
   ]
  },
  {
   "cell_type": "code",
   "execution_count": 29,
   "metadata": {},
   "outputs": [],
   "source": [
    "model.compile(optimizer=Adam(learning_rate=0.0001), \n",
    "              loss='categorical_crossentropy', metrics=['accuracy'])\n",
    "#model.compile(optimizer=Adam(learning_rate=0.0001),\n",
    "#              loss=keras.losses.categorical_crossentropy, metrics=['accuracy'])"
   ]
  },
  {
   "cell_type": "code",
   "execution_count": 30,
   "metadata": {},
   "outputs": [
    {
     "name": "stdout",
     "output_type": "stream",
     "text": [
      "Epoch 1/10\n",
      "170/170 - 8s - loss: 4.7100 - accuracy: 0.9829 - val_loss: 0.0000e+00 - val_accuracy: 1.0000\n",
      "Epoch 2/10\n",
      "170/170 - 8s - loss: 0.0000e+00 - accuracy: 1.0000 - val_loss: 0.0000e+00 - val_accuracy: 1.0000\n",
      "Epoch 3/10\n",
      "170/170 - 8s - loss: 0.0000e+00 - accuracy: 1.0000 - val_loss: 0.0000e+00 - val_accuracy: 1.0000\n",
      "Epoch 4/10\n",
      "170/170 - 8s - loss: 0.0000e+00 - accuracy: 1.0000 - val_loss: 0.0000e+00 - val_accuracy: 1.0000\n",
      "Epoch 5/10\n",
      "170/170 - 8s - loss: 0.0000e+00 - accuracy: 1.0000 - val_loss: 0.0000e+00 - val_accuracy: 1.0000\n",
      "Epoch 6/10\n",
      "170/170 - 8s - loss: 0.0000e+00 - accuracy: 1.0000 - val_loss: 0.0000e+00 - val_accuracy: 1.0000\n",
      "Epoch 7/10\n",
      "170/170 - 8s - loss: 0.0000e+00 - accuracy: 1.0000 - val_loss: 0.0000e+00 - val_accuracy: 1.0000\n",
      "Epoch 8/10\n",
      "170/170 - 8s - loss: 0.0000e+00 - accuracy: 1.0000 - val_loss: 0.0000e+00 - val_accuracy: 1.0000\n",
      "Epoch 9/10\n",
      "170/170 - 8s - loss: 0.0000e+00 - accuracy: 1.0000 - val_loss: 0.0000e+00 - val_accuracy: 1.0000\n",
      "Epoch 10/10\n",
      "170/170 - 8s - loss: 0.0000e+00 - accuracy: 1.0000 - val_loss: 0.0000e+00 - val_accuracy: 1.0000\n"
     ]
    },
    {
     "data": {
      "text/plain": [
       "<tensorflow.python.keras.callbacks.History at 0x7fdfc6f54c10>"
      ]
     },
     "execution_count": 30,
     "metadata": {},
     "output_type": "execute_result"
    }
   ],
   "source": [
    "model.fit(x=train_batches, validation_data=valid_batches, epochs=10, verbose=2)"
   ]
  },
  {
   "cell_type": "markdown",
   "metadata": {},
   "source": [
    "# Predict"
   ]
  },
  {
   "cell_type": "code",
   "execution_count": 16,
   "metadata": {},
   "outputs": [],
   "source": [
    "predictions = model.predict(x=test_batches, verbose=0)"
   ]
  },
  {
   "cell_type": "code",
   "execution_count": 17,
   "metadata": {
    "collapsed": true,
    "jupyter": {
     "outputs_hidden": true
    }
   },
   "outputs": [
    {
     "data": {
      "text/plain": [
       "array([[1., 0.],\n",
       "       [1., 0.],\n",
       "       [1., 0.],\n",
       "       [1., 0.],\n",
       "       [1., 0.],\n",
       "       [1., 0.],\n",
       "       [1., 0.],\n",
       "       [1., 0.],\n",
       "       [1., 0.],\n",
       "       [1., 0.],\n",
       "       [1., 0.],\n",
       "       [1., 0.],\n",
       "       [1., 0.],\n",
       "       [1., 0.],\n",
       "       [1., 0.],\n",
       "       [1., 0.],\n",
       "       [1., 0.],\n",
       "       [1., 0.],\n",
       "       [1., 0.],\n",
       "       [1., 0.],\n",
       "       [1., 0.],\n",
       "       [1., 0.],\n",
       "       [1., 0.],\n",
       "       [1., 0.],\n",
       "       [1., 0.],\n",
       "       [1., 0.],\n",
       "       [1., 0.],\n",
       "       [1., 0.],\n",
       "       [1., 0.],\n",
       "       [1., 0.],\n",
       "       [1., 0.],\n",
       "       [1., 0.],\n",
       "       [1., 0.],\n",
       "       [1., 0.],\n",
       "       [1., 0.],\n",
       "       [1., 0.],\n",
       "       [1., 0.],\n",
       "       [1., 0.],\n",
       "       [1., 0.],\n",
       "       [1., 0.],\n",
       "       [1., 0.],\n",
       "       [1., 0.],\n",
       "       [1., 0.],\n",
       "       [1., 0.],\n",
       "       [1., 0.],\n",
       "       [1., 0.],\n",
       "       [1., 0.],\n",
       "       [1., 0.],\n",
       "       [1., 0.],\n",
       "       [1., 0.],\n",
       "       [0., 1.],\n",
       "       [0., 1.],\n",
       "       [0., 1.],\n",
       "       [0., 1.],\n",
       "       [0., 1.],\n",
       "       [0., 1.],\n",
       "       [0., 1.],\n",
       "       [0., 1.],\n",
       "       [0., 1.],\n",
       "       [0., 1.],\n",
       "       [0., 1.],\n",
       "       [0., 1.],\n",
       "       [0., 1.],\n",
       "       [0., 1.],\n",
       "       [0., 1.],\n",
       "       [0., 1.],\n",
       "       [0., 1.],\n",
       "       [0., 1.],\n",
       "       [0., 1.],\n",
       "       [0., 1.],\n",
       "       [0., 1.],\n",
       "       [0., 1.],\n",
       "       [0., 1.],\n",
       "       [0., 1.],\n",
       "       [0., 1.],\n",
       "       [0., 1.],\n",
       "       [0., 1.],\n",
       "       [0., 1.],\n",
       "       [0., 1.],\n",
       "       [0., 1.],\n",
       "       [0., 1.],\n",
       "       [0., 1.],\n",
       "       [0., 1.],\n",
       "       [0., 1.],\n",
       "       [0., 1.],\n",
       "       [0., 1.],\n",
       "       [0., 1.],\n",
       "       [0., 1.],\n",
       "       [0., 1.],\n",
       "       [0., 1.],\n",
       "       [0., 1.],\n",
       "       [0., 1.],\n",
       "       [0., 1.],\n",
       "       [0., 1.],\n",
       "       [0., 1.],\n",
       "       [0., 1.],\n",
       "       [0., 1.],\n",
       "       [0., 1.],\n",
       "       [0., 1.],\n",
       "       [0., 1.]], dtype=float32)"
      ]
     },
     "execution_count": 17,
     "metadata": {},
     "output_type": "execute_result"
    }
   ],
   "source": [
    "np.round(predictions)"
   ]
  }
 ],
 "metadata": {
  "kernelspec": {
   "display_name": "Python 3",
   "language": "python",
   "name": "python3"
  },
  "language_info": {
   "codemirror_mode": {
    "name": "ipython",
    "version": 3
   },
   "file_extension": ".py",
   "mimetype": "text/x-python",
   "name": "python",
   "nbconvert_exporter": "python",
   "pygments_lexer": "ipython3",
   "version": "3.8.5"
  }
 },
 "nbformat": 4,
 "nbformat_minor": 4
}

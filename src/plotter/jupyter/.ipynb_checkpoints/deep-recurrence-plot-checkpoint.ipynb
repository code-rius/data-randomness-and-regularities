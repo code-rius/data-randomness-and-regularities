{
 "cells": [
  {
   "cell_type": "code",
   "execution_count": 120,
   "metadata": {},
   "outputs": [],
   "source": [
    "import numpy as np\n",
    "import tensorflow as tf\n",
    "from tensorflow import keras\n",
    "from tensorflow.keras.models import Sequential, load_model\n",
    "from tensorflow.keras.layers import Activation, Dense, Flatten, BatchNormalization, Dropout, Conv2D, MaxPool2D\n",
    "from tensorflow.keras.optimizers import Adam\n",
    "from tensorflow.keras.metrics import categorical_crossentropy\n",
    "from tensorflow.keras.preprocessing.image import ImageDataGenerator\n",
    "from sklearn.metrics import confusion_matrix \n",
    "from sklearn.metrics import accuracy_score\n",
    "from sklearn.utils import shuffle\n",
    "import itertools\n",
    "import os\n",
    "import shutil\n",
    "import random\n",
    "import glob\n",
    "import matplotlib.pyplot as plt \n",
    "import warnings\n",
    "warnings.simplefilter(action='ignore',category=FutureWarning)\n",
    "%matplotlib inline"
   ]
  },
  {
   "cell_type": "code",
   "execution_count": 2,
   "metadata": {},
   "outputs": [
    {
     "name": "stdout",
     "output_type": "stream",
     "text": [
      "Num GPUs Available:  1\n"
     ]
    }
   ],
   "source": [
    "physical_devices = tf.config.experimental.list_physical_devices('GPU')\n",
    "print(\"Num GPUs Available: \", len(physical_devices))\n",
    "tf.config.experimental.set_memory_growth(physical_devices[0], True)"
   ]
  },
  {
   "cell_type": "code",
   "execution_count": 3,
   "metadata": {},
   "outputs": [],
   "source": [
    "os.chdir('data/recurrence-plot')\n",
    "if os.path.isdir('train/chaotic') is False:\n",
    "    os.makedirs('train/chaotic')\n",
    "    os.makedirs('train/periodic')\n",
    "    os.makedirs('train/trend')\n",
    "    os.makedirs('valid/chaotic')\n",
    "    os.makedirs('valid/periodic')\n",
    "    os.makedirs('valid/trend')\n",
    "    os.makedirs('test/chaotic')\n",
    "    os.makedirs('test/periodic')\n",
    "    os.makedirs('test/trend')\n",
    "    \n",
    "    for c in random.sample(glob.glob('chaotic*'), 850):\n",
    "        shutil.move(c, 'train/chaotic')\n",
    "    for c in random.sample(glob.glob('periodic*'), 850):\n",
    "        shutil.move(c, 'train/periodic')\n",
    "    for c in random.sample(glob.glob('trend*'), 850):\n",
    "        shutil.move(c, 'train/trend')\n",
    "    for c in random.sample(glob.glob('chaotic*'), 100):\n",
    "        shutil.move(c, 'valid/chaotic')\n",
    "    for c in random.sample(glob.glob('periodic*'), 100):\n",
    "        shutil.move(c, 'valid/periodic')\n",
    "    for c in random.sample(glob.glob('trend*'), 100):\n",
    "        shutil.move(c, 'valid/trend')\n",
    "    for c in random.sample(glob.glob('chaotic*'), 50):\n",
    "        shutil.move(c, 'test/chaotic')\n",
    "    for c in random.sample(glob.glob('periodic*'), 50):\n",
    "        shutil.move(c, 'test/periodic')\n",
    "    for c in random.sample(glob.glob('trend*'), 50):\n",
    "        shutil.move(c, 'test/trend')\n",
    "        \n",
    "os.chdir('../../')"
   ]
  },
  {
   "cell_type": "code",
   "execution_count": 3,
   "metadata": {},
   "outputs": [],
   "source": [
    "train_path = 'data/recurrence-plot/train'\n",
    "valid_path = 'data/recurrence-plot/valid'\n",
    "test_path = 'data/recurrence-plot/test'"
   ]
  },
  {
   "cell_type": "code",
   "execution_count": 4,
   "metadata": {},
   "outputs": [
    {
     "name": "stdout",
     "output_type": "stream",
     "text": [
      "Found 2550 images belonging to 3 classes.\n",
      "Found 300 images belonging to 3 classes.\n",
      "Found 150 images belonging to 3 classes.\n"
     ]
    }
   ],
   "source": [
    "train_batches = ImageDataGenerator(preprocessing_function=tf.keras.applications.vgg16.preprocess_input) \\\n",
    ".flow_from_directory(directory=train_path, target_size=(224,224), classes=['periodic', 'trend', 'chaotic'], batch_size=10, shuffle=True)                \n",
    "valid_batches = ImageDataGenerator(preprocessing_function=tf.keras.applications.vgg16.preprocess_input) \\\n",
    ".flow_from_directory(directory=valid_path, target_size=(224,224), classes=['periodic', 'trend', 'chaotic'], batch_size=10, shuffle=True)\n",
    "test_batches = ImageDataGenerator(preprocessing_function=tf.keras.applications.vgg16.preprocess_input) \\\n",
    ".flow_from_directory(directory=test_path, target_size=(224,224), classes=['periodic', 'trend', 'chaotic'], batch_size=10)"
   ]
  },
  {
   "cell_type": "code",
   "execution_count": 18,
   "metadata": {
    "collapsed": true,
    "jupyter": {
     "outputs_hidden": true,
     "source_hidden": true
    }
   },
   "outputs": [
    {
     "name": "stdout",
     "output_type": "stream",
     "text": [
      "(array([[[[ 151.061  ,  138.22101,  131.32   ],\n",
      "         [ 151.061  ,  138.22101,  131.32   ],\n",
      "         [ 151.061  ,  138.22101,  131.32   ],\n",
      "         ...,\n",
      "         [ 151.061  ,  138.22101,  131.32   ],\n",
      "         [-103.939  , -116.779  , -123.68   ],\n",
      "         [-103.939  , -116.779  , -123.68   ]],\n",
      "\n",
      "        [[ 151.061  ,  138.22101,  131.32   ],\n",
      "         [ 151.061  ,  138.22101,  131.32   ],\n",
      "         [ 151.061  ,  138.22101,  131.32   ],\n",
      "         ...,\n",
      "         [ 151.061  ,  138.22101,  131.32   ],\n",
      "         [-103.939  , -116.779  , -123.68   ],\n",
      "         [-103.939  , -116.779  , -123.68   ]],\n",
      "\n",
      "        [[ 151.061  ,  138.22101,  131.32   ],\n",
      "         [ 151.061  ,  138.22101,  131.32   ],\n",
      "         [ 151.061  ,  138.22101,  131.32   ],\n",
      "         ...,\n",
      "         [-103.939  , -116.779  , -123.68   ],\n",
      "         [ 151.061  ,  138.22101,  131.32   ],\n",
      "         [ 151.061  ,  138.22101,  131.32   ]],\n",
      "\n",
      "        ...,\n",
      "\n",
      "        [[ 151.061  ,  138.22101,  131.32   ],\n",
      "         [ 151.061  ,  138.22101,  131.32   ],\n",
      "         [-103.939  , -116.779  , -123.68   ],\n",
      "         ...,\n",
      "         [ 151.061  ,  138.22101,  131.32   ],\n",
      "         [ 151.061  ,  138.22101,  131.32   ],\n",
      "         [ 151.061  ,  138.22101,  131.32   ]],\n",
      "\n",
      "        [[ 151.061  ,  138.22101,  131.32   ],\n",
      "         [-103.939  , -116.779  , -123.68   ],\n",
      "         [ 151.061  ,  138.22101,  131.32   ],\n",
      "         ...,\n",
      "         [ 151.061  ,  138.22101,  131.32   ],\n",
      "         [ 151.061  ,  138.22101,  131.32   ],\n",
      "         [ 151.061  ,  138.22101,  131.32   ]],\n",
      "\n",
      "        [[-103.939  , -116.779  , -123.68   ],\n",
      "         [ 151.061  ,  138.22101,  131.32   ],\n",
      "         [ 151.061  ,  138.22101,  131.32   ],\n",
      "         ...,\n",
      "         [ 151.061  ,  138.22101,  131.32   ],\n",
      "         [ 151.061  ,  138.22101,  131.32   ],\n",
      "         [ 151.061  ,  138.22101,  131.32   ]]],\n",
      "\n",
      "\n",
      "       [[[ 151.061  ,  138.22101,  131.32   ],\n",
      "         [ 151.061  ,  138.22101,  131.32   ],\n",
      "         [-103.939  , -116.779  , -123.68   ],\n",
      "         ...,\n",
      "         [ 151.061  ,  138.22101,  131.32   ],\n",
      "         [ 151.061  ,  138.22101,  131.32   ],\n",
      "         [-103.939  , -116.779  , -123.68   ]],\n",
      "\n",
      "        [[ 151.061  ,  138.22101,  131.32   ],\n",
      "         [ 151.061  ,  138.22101,  131.32   ],\n",
      "         [ 151.061  ,  138.22101,  131.32   ],\n",
      "         ...,\n",
      "         [ 151.061  ,  138.22101,  131.32   ],\n",
      "         [-103.939  , -116.779  , -123.68   ],\n",
      "         [ 151.061  ,  138.22101,  131.32   ]],\n",
      "\n",
      "        [[ 151.061  ,  138.22101,  131.32   ],\n",
      "         [-103.939  , -116.779  , -123.68   ],\n",
      "         [ 151.061  ,  138.22101,  131.32   ],\n",
      "         ...,\n",
      "         [-103.939  , -116.779  , -123.68   ],\n",
      "         [ 151.061  ,  138.22101,  131.32   ],\n",
      "         [ 151.061  ,  138.22101,  131.32   ]],\n",
      "\n",
      "        ...,\n",
      "\n",
      "        [[ 151.061  ,  138.22101,  131.32   ],\n",
      "         [ 151.061  ,  138.22101,  131.32   ],\n",
      "         [-103.939  , -116.779  , -123.68   ],\n",
      "         ...,\n",
      "         [ 151.061  ,  138.22101,  131.32   ],\n",
      "         [ 151.061  ,  138.22101,  131.32   ],\n",
      "         [-103.939  , -116.779  , -123.68   ]],\n",
      "\n",
      "        [[ 151.061  ,  138.22101,  131.32   ],\n",
      "         [-103.939  , -116.779  , -123.68   ],\n",
      "         [ 151.061  ,  138.22101,  131.32   ],\n",
      "         ...,\n",
      "         [-103.939  , -116.779  , -123.68   ],\n",
      "         [ 151.061  ,  138.22101,  131.32   ],\n",
      "         [ 151.061  ,  138.22101,  131.32   ]],\n",
      "\n",
      "        [[-103.939  , -116.779  , -123.68   ],\n",
      "         [ 151.061  ,  138.22101,  131.32   ],\n",
      "         [ 151.061  ,  138.22101,  131.32   ],\n",
      "         ...,\n",
      "         [ 151.061  ,  138.22101,  131.32   ],\n",
      "         [ 151.061  ,  138.22101,  131.32   ],\n",
      "         [ 151.061  ,  138.22101,  131.32   ]]],\n",
      "\n",
      "\n",
      "       [[[ 151.061  ,  138.22101,  131.32   ],\n",
      "         [ 151.061  ,  138.22101,  131.32   ],\n",
      "         [ 151.061  ,  138.22101,  131.32   ],\n",
      "         ...,\n",
      "         [ 151.061  ,  138.22101,  131.32   ],\n",
      "         [ 151.061  ,  138.22101,  131.32   ],\n",
      "         [-103.939  , -116.779  , -123.68   ]],\n",
      "\n",
      "        [[ 151.061  ,  138.22101,  131.32   ],\n",
      "         [ 151.061  ,  138.22101,  131.32   ],\n",
      "         [ 151.061  ,  138.22101,  131.32   ],\n",
      "         ...,\n",
      "         [ 151.061  ,  138.22101,  131.32   ],\n",
      "         [-103.939  , -116.779  , -123.68   ],\n",
      "         [ 151.061  ,  138.22101,  131.32   ]],\n",
      "\n",
      "        [[ 151.061  ,  138.22101,  131.32   ],\n",
      "         [ 151.061  ,  138.22101,  131.32   ],\n",
      "         [ 151.061  ,  138.22101,  131.32   ],\n",
      "         ...,\n",
      "         [-103.939  , -116.779  , -123.68   ],\n",
      "         [ 151.061  ,  138.22101,  131.32   ],\n",
      "         [ 151.061  ,  138.22101,  131.32   ]],\n",
      "\n",
      "        ...,\n",
      "\n",
      "        [[-103.939  , -116.779  , -123.68   ],\n",
      "         [ 151.061  ,  138.22101,  131.32   ],\n",
      "         [-103.939  , -116.779  , -123.68   ],\n",
      "         ...,\n",
      "         [ 151.061  ,  138.22101,  131.32   ],\n",
      "         [ 151.061  ,  138.22101,  131.32   ],\n",
      "         [ 151.061  ,  138.22101,  131.32   ]],\n",
      "\n",
      "        [[-103.939  , -116.779  , -123.68   ],\n",
      "         [-103.939  , -116.779  , -123.68   ],\n",
      "         [ 151.061  ,  138.22101,  131.32   ],\n",
      "         ...,\n",
      "         [ 151.061  ,  138.22101,  131.32   ],\n",
      "         [ 151.061  ,  138.22101,  131.32   ],\n",
      "         [ 151.061  ,  138.22101,  131.32   ]],\n",
      "\n",
      "        [[-103.939  , -116.779  , -123.68   ],\n",
      "         [-103.939  , -116.779  , -123.68   ],\n",
      "         [-103.939  , -116.779  , -123.68   ],\n",
      "         ...,\n",
      "         [ 151.061  ,  138.22101,  131.32   ],\n",
      "         [ 151.061  ,  138.22101,  131.32   ],\n",
      "         [ 151.061  ,  138.22101,  131.32   ]]],\n",
      "\n",
      "\n",
      "       ...,\n",
      "\n",
      "\n",
      "       [[[ 151.061  ,  138.22101,  131.32   ],\n",
      "         [-103.939  , -116.779  , -123.68   ],\n",
      "         [ 151.061  ,  138.22101,  131.32   ],\n",
      "         ...,\n",
      "         [ 151.061  ,  138.22101,  131.32   ],\n",
      "         [-103.939  , -116.779  , -123.68   ],\n",
      "         [-103.939  , -116.779  , -123.68   ]],\n",
      "\n",
      "        [[ 151.061  ,  138.22101,  131.32   ],\n",
      "         [-103.939  , -116.779  , -123.68   ],\n",
      "         [ 151.061  ,  138.22101,  131.32   ],\n",
      "         ...,\n",
      "         [ 151.061  ,  138.22101,  131.32   ],\n",
      "         [-103.939  , -116.779  , -123.68   ],\n",
      "         [-103.939  , -116.779  , -123.68   ]],\n",
      "\n",
      "        [[-103.939  , -116.779  , -123.68   ],\n",
      "         [-103.939  , -116.779  , -123.68   ],\n",
      "         [ 151.061  ,  138.22101,  131.32   ],\n",
      "         ...,\n",
      "         [-103.939  , -116.779  , -123.68   ],\n",
      "         [ 151.061  ,  138.22101,  131.32   ],\n",
      "         [ 151.061  ,  138.22101,  131.32   ]],\n",
      "\n",
      "        ...,\n",
      "\n",
      "        [[ 151.061  ,  138.22101,  131.32   ],\n",
      "         [ 151.061  ,  138.22101,  131.32   ],\n",
      "         [-103.939  , -116.779  , -123.68   ],\n",
      "         ...,\n",
      "         [ 151.061  ,  138.22101,  131.32   ],\n",
      "         [ 151.061  ,  138.22101,  131.32   ],\n",
      "         [ 151.061  ,  138.22101,  131.32   ]],\n",
      "\n",
      "        [[ 151.061  ,  138.22101,  131.32   ],\n",
      "         [-103.939  , -116.779  , -123.68   ],\n",
      "         [ 151.061  ,  138.22101,  131.32   ],\n",
      "         ...,\n",
      "         [-103.939  , -116.779  , -123.68   ],\n",
      "         [-103.939  , -116.779  , -123.68   ],\n",
      "         [-103.939  , -116.779  , -123.68   ]],\n",
      "\n",
      "        [[-103.939  , -116.779  , -123.68   ],\n",
      "         [ 151.061  ,  138.22101,  131.32   ],\n",
      "         [ 151.061  ,  138.22101,  131.32   ],\n",
      "         ...,\n",
      "         [-103.939  , -116.779  , -123.68   ],\n",
      "         [ 151.061  ,  138.22101,  131.32   ],\n",
      "         [ 151.061  ,  138.22101,  131.32   ]]],\n",
      "\n",
      "\n",
      "       [[[ 151.061  ,  138.22101,  131.32   ],\n",
      "         [ 151.061  ,  138.22101,  131.32   ],\n",
      "         [ 151.061  ,  138.22101,  131.32   ],\n",
      "         ...,\n",
      "         [-103.939  , -116.779  , -123.68   ],\n",
      "         [-103.939  , -116.779  , -123.68   ],\n",
      "         [-103.939  , -116.779  , -123.68   ]],\n",
      "\n",
      "        [[ 151.061  ,  138.22101,  131.32   ],\n",
      "         [ 151.061  ,  138.22101,  131.32   ],\n",
      "         [ 151.061  ,  138.22101,  131.32   ],\n",
      "         ...,\n",
      "         [-103.939  , -116.779  , -123.68   ],\n",
      "         [-103.939  , -116.779  , -123.68   ],\n",
      "         [-103.939  , -116.779  , -123.68   ]],\n",
      "\n",
      "        [[ 151.061  ,  138.22101,  131.32   ],\n",
      "         [ 151.061  ,  138.22101,  131.32   ],\n",
      "         [ 151.061  ,  138.22101,  131.32   ],\n",
      "         ...,\n",
      "         [-103.939  , -116.779  , -123.68   ],\n",
      "         [-103.939  , -116.779  , -123.68   ],\n",
      "         [-103.939  , -116.779  , -123.68   ]],\n",
      "\n",
      "        ...,\n",
      "\n",
      "        [[ 151.061  ,  138.22101,  131.32   ],\n",
      "         [ 151.061  ,  138.22101,  131.32   ],\n",
      "         [-103.939  , -116.779  , -123.68   ],\n",
      "         ...,\n",
      "         [ 151.061  ,  138.22101,  131.32   ],\n",
      "         [ 151.061  ,  138.22101,  131.32   ],\n",
      "         [ 151.061  ,  138.22101,  131.32   ]],\n",
      "\n",
      "        [[ 151.061  ,  138.22101,  131.32   ],\n",
      "         [-103.939  , -116.779  , -123.68   ],\n",
      "         [ 151.061  ,  138.22101,  131.32   ],\n",
      "         ...,\n",
      "         [ 151.061  ,  138.22101,  131.32   ],\n",
      "         [ 151.061  ,  138.22101,  131.32   ],\n",
      "         [ 151.061  ,  138.22101,  131.32   ]],\n",
      "\n",
      "        [[-103.939  , -116.779  , -123.68   ],\n",
      "         [ 151.061  ,  138.22101,  131.32   ],\n",
      "         [ 151.061  ,  138.22101,  131.32   ],\n",
      "         ...,\n",
      "         [ 151.061  ,  138.22101,  131.32   ],\n",
      "         [ 151.061  ,  138.22101,  131.32   ],\n",
      "         [ 151.061  ,  138.22101,  131.32   ]]],\n",
      "\n",
      "\n",
      "       [[[ 151.061  ,  138.22101,  131.32   ],\n",
      "         [ 151.061  ,  138.22101,  131.32   ],\n",
      "         [ 151.061  ,  138.22101,  131.32   ],\n",
      "         ...,\n",
      "         [ 151.061  ,  138.22101,  131.32   ],\n",
      "         [ 151.061  ,  138.22101,  131.32   ],\n",
      "         [-103.939  , -116.779  , -123.68   ]],\n",
      "\n",
      "        [[ 151.061  ,  138.22101,  131.32   ],\n",
      "         [ 151.061  ,  138.22101,  131.32   ],\n",
      "         [ 151.061  ,  138.22101,  131.32   ],\n",
      "         ...,\n",
      "         [ 151.061  ,  138.22101,  131.32   ],\n",
      "         [-103.939  , -116.779  , -123.68   ],\n",
      "         [ 151.061  ,  138.22101,  131.32   ]],\n",
      "\n",
      "        [[ 151.061  ,  138.22101,  131.32   ],\n",
      "         [ 151.061  ,  138.22101,  131.32   ],\n",
      "         [ 151.061  ,  138.22101,  131.32   ],\n",
      "         ...,\n",
      "         [-103.939  , -116.779  , -123.68   ],\n",
      "         [ 151.061  ,  138.22101,  131.32   ],\n",
      "         [ 151.061  ,  138.22101,  131.32   ]],\n",
      "\n",
      "        ...,\n",
      "\n",
      "        [[ 151.061  ,  138.22101,  131.32   ],\n",
      "         [-103.939  , -116.779  , -123.68   ],\n",
      "         [-103.939  , -116.779  , -123.68   ],\n",
      "         ...,\n",
      "         [ 151.061  ,  138.22101,  131.32   ],\n",
      "         [ 151.061  ,  138.22101,  131.32   ],\n",
      "         [ 151.061  ,  138.22101,  131.32   ]],\n",
      "\n",
      "        [[ 151.061  ,  138.22101,  131.32   ],\n",
      "         [-103.939  , -116.779  , -123.68   ],\n",
      "         [-103.939  , -116.779  , -123.68   ],\n",
      "         ...,\n",
      "         [ 151.061  ,  138.22101,  131.32   ],\n",
      "         [ 151.061  ,  138.22101,  131.32   ],\n",
      "         [ 151.061  ,  138.22101,  131.32   ]],\n",
      "\n",
      "        [[-103.939  , -116.779  , -123.68   ],\n",
      "         [ 151.061  ,  138.22101,  131.32   ],\n",
      "         [ 151.061  ,  138.22101,  131.32   ],\n",
      "         ...,\n",
      "         [ 151.061  ,  138.22101,  131.32   ],\n",
      "         [ 151.061  ,  138.22101,  131.32   ],\n",
      "         [ 151.061  ,  138.22101,  131.32   ]]]], dtype=float32), array([[0., 1., 0.],\n",
      "       [0., 0., 1.],\n",
      "       [0., 1., 0.],\n",
      "       [1., 0., 0.],\n",
      "       [0., 0., 1.],\n",
      "       [0., 0., 1.],\n",
      "       [1., 0., 0.],\n",
      "       [0., 0., 1.],\n",
      "       [1., 0., 0.],\n",
      "       [1., 0., 0.]], dtype=float32))\n"
     ]
    }
   ],
   "source": [
    "print(train_batches.next())"
   ]
  },
  {
   "cell_type": "code",
   "execution_count": 5,
   "metadata": {},
   "outputs": [],
   "source": [
    "imgs, labels = next(train_batches)"
   ]
  },
  {
   "cell_type": "code",
   "execution_count": 15,
   "metadata": {},
   "outputs": [],
   "source": [
    "model = Sequential([\n",
    "    Conv2D(filters=64, kernel_size=(3,3), activation='relu', padding='same', input_shape=(224,224,3)),\n",
    "    Conv2D(filters=64, kernel_size=(3,3), activation='relu', padding='same'),\n",
    "    MaxPool2D(pool_size=(2,2), strides=2),\n",
    "    Dropout(0.25),\n",
    "    Conv2D(filters=128, kernel_size=(3,3), activation='relu', padding='same'),\n",
    "    Conv2D(filters=128, kernel_size=(3,3), activation='relu', padding='same'),\n",
    "    MaxPool2D(pool_size=(2,2), strides=2),\n",
    "    Dropout(0.25),\n",
    "    Conv2D(filters=256, kernel_size=(3,3), activation='relu', padding='same'),\n",
    "    Conv2D(filters=256, kernel_size=(3,3), activation='relu', padding='same'),\n",
    "    MaxPool2D(pool_size=(2,2), strides=2),\n",
    "    Dropout(0.25),\n",
    "    Flatten(),\n",
    "#     Dense(units=1024, activation='softmax'),\n",
    "#     Conv2D(filters=512, kernel_size=(3,3), activation='relu', padding='same'),\n",
    "#     Conv2D(filters=512, kernel_size=(3,3), activation='relu', padding='same'),\n",
    "#     Conv2D(filters=512, kernel_size=(3,3), activation='relu', padding='same'),\n",
    "#     MaxPool2D(pool_size=(2,2), strides=2),\n",
    "    Dense(units=3, activation='softmax')\n",
    "])"
   ]
  },
  {
   "cell_type": "code",
   "execution_count": 16,
   "metadata": {
    "collapsed": true,
    "jupyter": {
     "outputs_hidden": true
    }
   },
   "outputs": [
    {
     "name": "stdout",
     "output_type": "stream",
     "text": [
      "Model: \"sequential_2\"\n",
      "_________________________________________________________________\n",
      "Layer (type)                 Output Shape              Param #   \n",
      "=================================================================\n",
      "conv2d_13 (Conv2D)           (None, 224, 224, 64)      1792      \n",
      "_________________________________________________________________\n",
      "conv2d_14 (Conv2D)           (None, 224, 224, 64)      36928     \n",
      "_________________________________________________________________\n",
      "max_pooling2d_6 (MaxPooling2 (None, 112, 112, 64)      0         \n",
      "_________________________________________________________________\n",
      "dropout_6 (Dropout)          (None, 112, 112, 64)      0         \n",
      "_________________________________________________________________\n",
      "conv2d_15 (Conv2D)           (None, 112, 112, 128)     73856     \n",
      "_________________________________________________________________\n",
      "conv2d_16 (Conv2D)           (None, 112, 112, 128)     147584    \n",
      "_________________________________________________________________\n",
      "max_pooling2d_7 (MaxPooling2 (None, 56, 56, 128)       0         \n",
      "_________________________________________________________________\n",
      "dropout_7 (Dropout)          (None, 56, 56, 128)       0         \n",
      "_________________________________________________________________\n",
      "conv2d_17 (Conv2D)           (None, 56, 56, 256)       295168    \n",
      "_________________________________________________________________\n",
      "conv2d_18 (Conv2D)           (None, 56, 56, 256)       590080    \n",
      "_________________________________________________________________\n",
      "max_pooling2d_8 (MaxPooling2 (None, 28, 28, 256)       0         \n",
      "_________________________________________________________________\n",
      "dropout_8 (Dropout)          (None, 28, 28, 256)       0         \n",
      "_________________________________________________________________\n",
      "flatten_2 (Flatten)          (None, 200704)            0         \n",
      "_________________________________________________________________\n",
      "dense_4 (Dense)              (None, 3)                 602115    \n",
      "=================================================================\n",
      "Total params: 1,747,523\n",
      "Trainable params: 1,747,523\n",
      "Non-trainable params: 0\n",
      "_________________________________________________________________\n"
     ]
    }
   ],
   "source": [
    "model.summary()"
   ]
  },
  {
   "cell_type": "code",
   "execution_count": 125,
   "metadata": {},
   "outputs": [],
   "source": [
    "model.compile(optimizer=Adam(learning_rate=0.0005), \n",
    "              loss='categorical_crossentropy', metrics=['accuracy'])"
   ]
  },
  {
   "cell_type": "code",
   "execution_count": 126,
   "metadata": {},
   "outputs": [
    {
     "name": "stdout",
     "output_type": "stream",
     "text": [
      "Epoch 1/10\n",
      "255/255 - 30s - loss: 1.1959 - accuracy: 0.9212 - val_loss: 1.1114 - val_accuracy: 0.3333\n",
      "Epoch 2/10\n",
      "255/255 - 29s - loss: 1.1544 - accuracy: 0.3314 - val_loss: 1.0988 - val_accuracy: 0.3333\n",
      "Epoch 3/10\n",
      "255/255 - 29s - loss: 1.1053 - accuracy: 0.3576 - val_loss: 1.0986 - val_accuracy: 0.3333\n",
      "Epoch 4/10\n",
      "255/255 - 29s - loss: 1.1136 - accuracy: 0.3369 - val_loss: 1.0987 - val_accuracy: 0.3333\n",
      "Epoch 5/10\n",
      "255/255 - 29s - loss: 1.0998 - accuracy: 0.3388 - val_loss: 1.0986 - val_accuracy: 0.3333\n",
      "Epoch 6/10\n",
      "255/255 - 29s - loss: 1.0987 - accuracy: 0.3337 - val_loss: 1.0985 - val_accuracy: 0.3333\n",
      "Epoch 7/10\n",
      "255/255 - 29s - loss: 1.1022 - accuracy: 0.3404 - val_loss: 1.0985 - val_accuracy: 0.3333\n",
      "Epoch 8/10\n",
      "255/255 - 29s - loss: 1.0988 - accuracy: 0.3302 - val_loss: 1.0984 - val_accuracy: 0.3333\n",
      "Epoch 9/10\n",
      "255/255 - 29s - loss: 1.1690 - accuracy: 0.4965 - val_loss: 0.8564 - val_accuracy: 0.7533\n",
      "Epoch 10/10\n",
      "255/255 - 29s - loss: 0.3201 - accuracy: 0.8937 - val_loss: 0.1567 - val_accuracy: 0.9833\n"
     ]
    },
    {
     "data": {
      "text/plain": [
       "<tensorflow.python.keras.callbacks.History at 0x7f9b180feb80>"
      ]
     },
     "execution_count": 126,
     "metadata": {},
     "output_type": "execute_result"
    }
   ],
   "source": [
    "model.fit(x=train_batches, validation_data=valid_batches, epochs=10, verbose=2)"
   ]
  },
  {
   "cell_type": "markdown",
   "metadata": {},
   "source": [
    "# Predict"
   ]
  },
  {
   "cell_type": "code",
   "execution_count": 127,
   "metadata": {},
   "outputs": [
    {
     "name": "stdout",
     "output_type": "stream",
     "text": [
      "[[0. 1. 0.]\n",
      " [0. 0. 1.]\n",
      " [0. 1. 0.]\n",
      " [0. 0. 1.]\n",
      " [0. 1. 0.]\n",
      " [0. 0. 1.]\n",
      " [1. 0. 0.]\n",
      " [0. 1. 0.]\n",
      " [0. 0. 1.]\n",
      " [0. 0. 1.]]\n"
     ]
    }
   ],
   "source": [
    "test_imgs, test_labels = next (test_batches)\n",
    "print(test_labels)\n",
    "# print(test_imgs)"
   ]
  },
  {
   "cell_type": "code",
   "execution_count": 128,
   "metadata": {},
   "outputs": [
    {
     "data": {
      "text/plain": [
       "array([0, 0, 0, 0, 0, 0, 0, 0, 0, 0, 0, 0, 0, 0, 0, 0, 0, 0, 0, 0, 0, 0,\n",
       "       0, 0, 0, 0, 0, 0, 0, 0, 0, 0, 0, 0, 0, 0, 0, 0, 0, 0, 0, 0, 0, 0,\n",
       "       0, 0, 0, 0, 0, 0, 1, 1, 1, 1, 1, 1, 1, 1, 1, 1, 1, 1, 1, 1, 1, 1,\n",
       "       1, 1, 1, 1, 1, 1, 1, 1, 1, 1, 1, 1, 1, 1, 1, 1, 1, 1, 1, 1, 1, 1,\n",
       "       1, 1, 1, 1, 1, 1, 1, 1, 1, 1, 1, 1, 2, 2, 2, 2, 2, 2, 2, 2, 2, 2,\n",
       "       2, 2, 2, 2, 2, 2, 2, 2, 2, 2, 2, 2, 2, 2, 2, 2, 2, 2, 2, 2, 2, 2,\n",
       "       2, 2, 2, 2, 2, 2, 2, 2, 2, 2, 2, 2, 2, 2, 2, 2, 2, 2], dtype=int32)"
      ]
     },
     "execution_count": 128,
     "metadata": {},
     "output_type": "execute_result"
    }
   ],
   "source": [
    "test_batches.classes"
   ]
  },
  {
   "cell_type": "code",
   "execution_count": 129,
   "metadata": {},
   "outputs": [],
   "source": [
    "predictions = model.predict(x=test_batches, verbose=0)"
   ]
  },
  {
   "cell_type": "code",
   "execution_count": 130,
   "metadata": {},
   "outputs": [
    {
     "name": "stdout",
     "output_type": "stream",
     "text": [
      "[0, 2, 0, 0, 1, 0, 1, 1, 0, 2, 2, 2, 1, 1, 1, 1, 2, 2, 1, 0, 2, 1, 1, 1, 0, 2, 2, 2, 2, 2, 1, 0, 0, 2, 0, 0, 0, 0, 0, 0, 0, 0, 1, 0, 1, 1, 2, 2, 2, 2, 0, 0, 2, 0, 0, 2, 1, 0, 2, 0, 2, 2, 0, 1, 1, 1, 2, 2, 1, 1, 0, 0, 1, 2, 2, 1, 0, 1, 1, 1, 1, 2, 0, 2, 1, 0, 2, 1, 1, 0, 1, 2, 1, 2, 1, 2, 0, 1, 2, 2, 0, 2, 1, 2, 2, 1, 1, 1, 2, 0, 1, 0, 2, 1, 0, 2, 1, 2, 1, 2, 2, 0, 2, 2, 1, 2, 0, 0, 1, 2, 0, 0, 2, 2, 0, 1, 2, 1, 1, 2, 0, 2, 0, 1, 1, 1, 2, 2, 0, 2]\n"
     ]
    }
   ],
   "source": [
    "prediction_results = []\n",
    "counter = 0\n",
    "\n",
    "periodic, trend, chaotic = [1,0,0], [0,1,0], [0,0,1]\n",
    "rounded_predictions = np.round(predictions).astype(int)\n",
    "\n",
    "for i in range(len(rounded_predictions)):\n",
    "    if (np.array_equal(rounded_predictions[i], periodic)):\n",
    "        prediction_results.append(0)\n",
    "        counter += 1\n",
    "    elif (np.array_equal(rounded_predictions[i], trend)):\n",
    "        counter += 1\n",
    "        prediction_results.append(1)\n",
    "    else:\n",
    "        counter += 1\n",
    "        prediction_results.append(2)\n",
    "\n",
    "print(prediction_results)"
   ]
  },
  {
   "cell_type": "code",
   "execution_count": 131,
   "metadata": {},
   "outputs": [],
   "source": [
    "cm = confusion_matrix(y_true=test_batches.classes, y_pred=prediction_results)"
   ]
  },
  {
   "cell_type": "code",
   "execution_count": 25,
   "metadata": {},
   "outputs": [],
   "source": [
    "def plot_confusion_matrix(cm, classes, normalize=False, title=\"Confusion matrix\", cmap=plt.cm.Blues):\n",
    "    plt.imshow(cm, interpolation='nearest', cmap=cmap)\n",
    "    plt.title(title)\n",
    "    plt.colorbar()\n",
    "    tick_marks=np.arange(len(classes))\n",
    "    plt.xticks(tick_marks, classes, rotation=45)\n",
    "    plt.xticks(tick_marks, classes)\n",
    "    \n",
    "    if normalize:\n",
    "        cm=cm.astype('float') / cm.sum(axis=1)[:, np.newaxis]\n",
    "        print(\"Normalized confusion matrix\")\n",
    "    else:\n",
    "        print('Confusion matrix, without normalization')\n",
    "        \n",
    "    print(cm)\n",
    "    \n",
    "    thresh = cm.max() / 2.\n",
    "    for i,j in itertools.product(range(cm.shape[0]), range(cm.shape[1])):\n",
    "        plt.text(j,i,cm[i,j], horizontalalignment=\"center\",\n",
    "                color=\"white\" if cm[i,j] > thresh else \"black\")\n",
    "\n",
    "    plt.tight_layout()\n",
    "    plt.ylabel('True label')\n",
    "    plt.xlabel('Predicted label')"
   ]
  },
  {
   "cell_type": "code",
   "execution_count": 132,
   "metadata": {},
   "outputs": [
    {
     "name": "stdout",
     "output_type": "stream",
     "text": [
      "{'periodic': 0, 'trend': 1, 'chaotic': 2}\n",
      "[[18 15 17]\n",
      " [14 19 17]\n",
      " [13 16 21]]\n"
     ]
    }
   ],
   "source": [
    "print(test_batches.class_indices)\n",
    "#print(test_batches[0])\n",
    "print(cm)"
   ]
  },
  {
   "cell_type": "code",
   "execution_count": 133,
   "metadata": {},
   "outputs": [
    {
     "name": "stdout",
     "output_type": "stream",
     "text": [
      "Confusion matrix, without normalization\n",
      "[[18 15 17]\n",
      " [14 19 17]\n",
      " [13 16 21]]\n"
     ]
    },
    {
     "data": {
      "image/png": "[encoded data removed]",
      "text/plain": [
       "<Figure size 432x288 with 2 Axes>"
      ]
     },
     "metadata": {
      "needs_background": "light"
     },
     "output_type": "display_data"
    }
   ],
   "source": [
    "cm_plot_labels=['periodic','trend','chaotic']\n",
    "plot_confusion_matrix(cm=cm, classes=cm_plot_labels, title=\"Confusion matrix\")"
   ]
  },
  {
   "cell_type": "code",
   "execution_count": 134,
   "metadata": {},
   "outputs": [
    {
     "name": "stdout",
     "output_type": "stream",
     "text": [
      "0.38666666666666666\n"
     ]
    }
   ],
   "source": [
    "print(accuracy_score(test_batches.classes, prediction_results))"
   ]
  },
  {
   "cell_type": "code",
   "execution_count": 22,
   "metadata": {},
   "outputs": [],
   "source": [
    "if os.path.isfile('models/recurrence_plot_model.h5') is False:\n",
    "    model.save('models/recurrence_plot_model.h5')"
   ]
  },
  {
   "cell_type": "code",
   "execution_count": 23,
   "metadata": {},
   "outputs": [],
   "source": [
    "from sklearn.metrics import confusion_matrix\n",
    "from sklearn.metrics import plot_confusion_matrix\n",
    "from sklearn.metrics import accuracy_score"
   ]
  },
  {
   "cell_type": "code",
   "execution_count": 124,
   "metadata": {},
   "outputs": [],
   "source": [
    "model = load_model('models/recurrence_plot_model.h5')"
   ]
  },
  {
   "cell_type": "code",
   "execution_count": 55,
   "metadata": {
    "collapsed": true,
    "jupyter": {
     "outputs_hidden": true
    }
   },
   "outputs": [
    {
     "name": "stdout",
     "output_type": "stream",
     "text": [
      "Model: \"sequential_16\"\n",
      "_________________________________________________________________\n",
      "Layer (type)                 Output Shape              Param #   \n",
      "=================================================================\n",
      "conv2d_140 (Conv2D)          (None, 224, 224, 64)      1792      \n",
      "_________________________________________________________________\n",
      "conv2d_141 (Conv2D)          (None, 224, 224, 64)      36928     \n",
      "_________________________________________________________________\n",
      "max_pooling2d_59 (MaxPooling (None, 112, 112, 64)      0         \n",
      "_________________________________________________________________\n",
      "dropout_16 (Dropout)         (None, 112, 112, 64)      0         \n",
      "_________________________________________________________________\n",
      "conv2d_142 (Conv2D)          (None, 112, 112, 128)     73856     \n",
      "_________________________________________________________________\n",
      "conv2d_143 (Conv2D)          (None, 112, 112, 128)     147584    \n",
      "_________________________________________________________________\n",
      "max_pooling2d_60 (MaxPooling (None, 56, 56, 128)       0         \n",
      "_________________________________________________________________\n",
      "dropout_17 (Dropout)         (None, 56, 56, 128)       0         \n",
      "_________________________________________________________________\n",
      "conv2d_144 (Conv2D)          (None, 56, 56, 256)       295168    \n",
      "_________________________________________________________________\n",
      "conv2d_145 (Conv2D)          (None, 56, 56, 256)       590080    \n",
      "_________________________________________________________________\n",
      "conv2d_146 (Conv2D)          (None, 56, 56, 256)       590080    \n",
      "_________________________________________________________________\n",
      "max_pooling2d_61 (MaxPooling (None, 28, 28, 256)       0         \n",
      "_________________________________________________________________\n",
      "dropout_18 (Dropout)         (None, 28, 28, 256)       0         \n",
      "_________________________________________________________________\n",
      "conv2d_147 (Conv2D)          (None, 28, 28, 512)       1180160   \n",
      "_________________________________________________________________\n",
      "conv2d_148 (Conv2D)          (None, 28, 28, 512)       2359808   \n",
      "_________________________________________________________________\n",
      "conv2d_149 (Conv2D)          (None, 28, 28, 512)       2359808   \n",
      "_________________________________________________________________\n",
      "max_pooling2d_62 (MaxPooling (None, 14, 14, 512)       0         \n",
      "_________________________________________________________________\n",
      "flatten_16 (Flatten)         (None, 100352)            0         \n",
      "_________________________________________________________________\n",
      "dense_28 (Dense)             (None, 3)                 301059    \n",
      "=================================================================\n",
      "Total params: 7,936,323\n",
      "Trainable params: 7,936,323\n",
      "Non-trainable params: 0\n",
      "_________________________________________________________________\n"
     ]
    }
   ],
   "source": [
    "model.summary()"
   ]
  }
 ],
 "metadata": {
  "kernelspec": {
   "display_name": "Python 3",
   "language": "python",
   "name": "python3"
  },
  "language_info": {
   "codemirror_mode": {
    "name": "ipython",
    "version": 3
   },
   "file_extension": ".py",
   "mimetype": "text/x-python",
   "name": "python",
   "nbconvert_exporter": "python",
   "pygments_lexer": "ipython3",
   "version": "3.8.5"
  }
 },
 "nbformat": 4,
 "nbformat_minor": 4
}
